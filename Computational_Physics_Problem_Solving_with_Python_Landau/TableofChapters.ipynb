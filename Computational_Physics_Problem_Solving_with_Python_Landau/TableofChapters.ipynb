{
 "cells": [
  {
   "cell_type": "markdown",
   "metadata": {},
   "source": [
    "# Table of Chapters (with Chapter Links)<br>\n",
    "\n",
    "| | | |\n",
    "|:---:|:---:|:---:|\n",
    "| ![image](Figs/Cover.png)|[From **COMPUTATIONAL PHYSICS**, 3rd Ed, 2015](http://physics.oregonstate.edu/~rubin/Books/CPbook/index.html) <br>RH Landau, MJ Paez, and CC Bordeianu (deceased) <br>Copyrights: <br> [Wiley-VCH, Berlin;](http://www.wiley-vch.de/publish/en/books/ISBN3-527-41315-4/) and [Wiley & Sons, New York](http://www.wiley.com/WileyCDA/WileyTitle/productCd-3527413154.html)<br>  R Landau, Oregon State Unv, <br>MJ Paez, Univ Antioquia,<br> C Bordeianu, Univ Bucharest, 2015.<br> Support by National Science Foundation.|![image](Figs/BackCover.png)|\n",
    "\n",
    "[**1 Introduction**](CP01.ipynb)<br>\n",
    "[**2 Computing Software Basics**](CP02.ipynb)<br>\n",
    "[**3 Errors & Uncertainties in Computations**](CP03.ipynb)<br>\n",
    "[**4 Monte Carlo: Randomness, Walks & Decays**](CP04.ipynb)<br>\n",
    "[**5 Differentiation & Integration**](CP05.ipynb)<br>\n",
    "[**6 Matrix Computing**](CP06.ipynb)<br>\n",
    "[**7 Trial-and-Error Searching & Data Fitting**](CP07.ipynb)<br>\n",
    "[**8 Solving Differential Equations; Nonlinear Oscillations**](CP08.ipynb)<br>\n",
    "[**9 ODE Applications**](CP09.ipynb)<br>\n",
    "[**10 High-Performance Hardware & Parallel Computers**](CP10.ipynb)<br>\n",
    "[**11 Applied HPC: Optimization, Tuning & GPU Programming**](CP11.ipynb)<br>\n",
    "[**12 Fourier Analysis: Signals & Filters**](CP12.ipynb)<br>\n",
    "[**13 Wavelet & Principal Components Analyses**](CP13.ipynb)<br>\n",
    "[**14 Nonlinear Population Dynamics**](CP14.ipynb)<br>\n",
    "[**15 Continuous Nonlinear Dynamics**](CP15.ipynb)<br>\n",
    "[**16 Fractals & Statistical Growth Models**](CP16.ipynb)<br>\n",
    "[**17 Thermodynamic Simulations & Feynman Path Integrals**](CP17.ipynb)<br>\n",
    "[**18 Molecular Dynamics Simulations**](CP18.ipynb)<br>\n",
    "[**19 PDE Review & Electrostatics via Finite Differences**](CP19.ipynb)<br>\n",
    "[**20 Heat Flow via Time Stepping**](CP20.ipynb)<br>\n",
    "[**21 Wave Equations I: Strings & Membranes**](CP21.ipynb)<br>\n",
    "[**22 Wave Equations II: Quantum Packets & E-M**](CP22.ipynb)<br>\n",
    "[**23 Electrostatics via Finite Elements**](CP23.ipynb)<br>\n",
    "[**24 Shock Waves and Solitons**](CP24.ipynb)<br>\n",
    "[**25 Fluid Dynamics**](CP25.ipynb)<br>\n",
    "[**26 Integral Equations of Quantum Mechanics**](CP26.ipynb)<br>\n",
    "[**A Codes, Applets & Animations**](Append.ipynb)\n"
   ]
  },
  {
   "cell_type": "code",
   "execution_count": null,
   "metadata": {
    "collapsed": true
   },
   "outputs": [],
   "source": []
  }
 ],
 "metadata": {
  "kernelspec": {
   "display_name": "Python 2",
   "language": "python",
   "name": "python2"
  },
  "language_info": {
   "codemirror_mode": {
    "name": "ipython",
    "version": 2
   },
   "file_extension": ".py",
   "mimetype": "text/x-python",
   "name": "python",
   "nbconvert_exporter": "python",
   "pygments_lexer": "ipython2",
   "version": "2.7.10"
  }
 },
 "nbformat": 4,
 "nbformat_minor": 0
}
