{
 "cells": [
  {
   "cell_type": "markdown",
   "metadata": {},
   "source": [
    "# Sod's Shock-Tube Problem\n",
    "\n",
    "In this notebook, we will explore the Riemann solver of Roe to solve Sod's Shock-Tube Problem and the use of limiters when a MUSCL-reconstructed stencil is used.\n",
    "\n",
    "To run each of the following cells, use the keyboard shortcut **SHIFT** + **ENTER**, press the button ``Run`` in the toolbar or find the option ``Cell > Run Cells`` from the menu bar. For more shortcuts, see ``Help > Keyboard Shortcuts``.\n",
    "\n",
    "To get started, import the required Python modules by running the cell below."
   ]
  },
  {
   "cell_type": "code",
   "execution_count": null,
   "metadata": {},
   "outputs": [],
   "source": [
    "# Configuration for visualizing the plots\n",
    "%matplotlib notebook\n",
    "%config InlineBackend.figure_format = 'retina'\n",
    "\n",
    "# Required modules\n",
    "import numpy as np\n",
    "from numpy import sqrt\n",
    "import matplotlib.pyplot as plt\n",
    "\n",
    "# Import figure style and custom functions\n",
    "import nbtools as nb"
   ]
  },
  {
   "cell_type": "markdown",
   "metadata": {},
   "source": [
    "Complete the definition of the flux vector for the Euler equations using the conserved variables ``u``."
   ]
  },
  {
   "cell_type": "code",
   "execution_count": null,
   "metadata": {},
   "outputs": [],
   "source": [
    "def euler_flux(u):\n",
    "    f = 0.0*u\n",
    "    p = (gamma - 1)*(u[2] - 0.5*u[1]**2/u[0])\n",
    "    f[0] = u[1]\n",
    "    f[1] = \n",
    "    f[2] = \n",
    "    return f"
   ]
  },
  {
   "cell_type": "markdown",
   "metadata": {},
   "source": [
    "**The Riemann Solver of Roe**\n",
    "\n",
    "First, we will complete the definition of the Roe Riemann solver following the theory in the textbook"
   ]
  },
  {
   "cell_type": "code",
   "execution_count": null,
   "metadata": {},
   "outputs": [],
   "source": [
    "def roe_scheme(ul, ur):\n",
    "    # Get density\n",
    "    rhol = ul[0]\n",
    "    rhor = ur[0]\n",
    "\n",
    "    # Compute velocity\n",
    "    vl = ul[1]/ul[0]\n",
    "    vr = ur[1]/ur[0]\n",
    "    \n",
    "    # Compute pressure\n",
    "    pl = (gamma - 1)*rhol*(ul[2]/ul[0] - 0.5*vl**2)\n",
    "    pr = (gamma - 1)*rhor*(ur[2]/ur[0] - 0.5*vr**2)\n",
    "\n",
    "    # Compute enthalpy\n",
    "    hl = \n",
    "    hr = \n",
    "    \n",
    "    # Compute Roe averages\n",
    "    vm = \n",
    "    hm = \n",
    "    cm = \n",
    "    \n",
    "    # Compute averaged eigenvalues\n",
    "    l1 = vm - cm \n",
    "    l2 = vm\n",
    "    l3 = vm + cm\n",
    "    \n",
    "    # Compute right averaged eigenvectors\n",
    "    k = np.array([[        1,          1,          1],\n",
    "                  [   vm - cm,        vm,    vm + cm],\n",
    "                  [hm - vm*cm, 0.5*vm**2, hm + vm*cm]])\n",
    "    \n",
    "    # Compute wave strengths (alpha)\n",
    "    du = ur - ul\n",
    "    a2 = (gamma - 1)/cm**2 *(du[0]*(hm - vm**2) + vm*du[1] - du[2])\n",
    "    a1 = \n",
    "    a3 = \n",
    " \n",
    "    # Check for rarefaction waves (Harten's entropy fix)\n",
    "    tol = 0.001\n",
    "    \n",
    "    # Left wave\n",
    "    if abs(l1) < tol:\n",
    "        l1 = (l1**2 + tol**2)/(2*tol)\n",
    "    \n",
    "    # Right wave\n",
    "    if abs(l3) < tol:\n",
    "        l2 = (l2**2 + tol**2)/(2*tol)\n",
    "        \n",
    "    # Compute left and right Euler fluxes\n",
    "    fl = euler_flux(ul)\n",
    "    fr = euler_flux(ur)\n",
    "    \n",
    "    # Compute Riemann flux\n",
    "    fm = 0.5*(fl + fr - (a1*abs(l1)*k[:, 0] + a2*abs(l2)*k[:, 1] + a3*abs(l3)*k[:, 2]))\n",
    "    return fm"
   ]
  },
  {
   "cell_type": "markdown",
   "metadata": {},
   "source": [
    "To advance the solution in time, we will use the midpoint method, which is given below"
   ]
  },
  {
   "cell_type": "code",
   "execution_count": null,
   "metadata": {},
   "outputs": [],
   "source": [
    "def advance_solution(ut, dt, tf):\n",
    "    t = 0\n",
    "    while t < tf:\n",
    "        r = residual(ut)\n",
    "        um = ut + 0.5*dt*r\n",
    "        rm = residual(um)\n",
    "        uf = ut + 1.0*dt*rm\n",
    "        ut = uf\n",
    "        t += dt \n",
    "    return ut.T"
   ]
  },
  {
   "cell_type": "markdown",
   "metadata": {},
   "source": [
    "Now, we define the ``residual`` function following the scheme of Godunov"
   ]
  },
  {
   "cell_type": "code",
   "execution_count": null,
   "metadata": {},
   "outputs": [],
   "source": [
    "def residual(u):\n",
    "    r = 0.0*u\n",
    "    for i in range(1, n - 1):\n",
    "        fl = roe_scheme(u[i - 1], u[i])\n",
    "        fr = roe_scheme(u[i], u[i + 1])\n",
    "        r[i] = -(fr - fl)/dx\n",
    "    return r"
   ]
  },
  {
   "cell_type": "markdown",
   "metadata": {},
   "source": [
    "Define the global constant ``gamma=1.4``"
   ]
  },
  {
   "cell_type": "code",
   "execution_count": null,
   "metadata": {},
   "outputs": [],
   "source": [
    "gamma = 1.4"
   ]
  },
  {
   "cell_type": "markdown",
   "metadata": {},
   "source": [
    "To initialize the solution, it will become useful to define a function ``initialize_sod``. Complete the missing lines"
   ]
  },
  {
   "cell_type": "code",
   "execution_count": null,
   "metadata": {},
   "outputs": [],
   "source": [
    "def initialize_sod(x, rhol, vl, pl, rhor, vr, pr):\n",
    "    rho = 0.0*x\n",
    "    v = 0.0*x\n",
    "    p = 0.0*x\n",
    "\n",
    "    # Initialize discontinuous solution on grid\n",
    "    for j, xval in enumerate(x):\n",
    "        if xval <= L/2:\n",
    "            rho[j] = \n",
    "            v[j] = \n",
    "            p[j] = \n",
    "        else:\n",
    "            rho[j] = \n",
    "            v[j] = \n",
    "            p[j] = \n",
    "    \n",
    "    # Compute specific energy\n",
    "    e = p/(gamma*rho-rho)\n",
    "    E = \n",
    "\n",
    "    # Initialize vector of conserved variables\n",
    "    u0 = np.array([rho, rho*v, rho*E])\n",
    "    return u0.T"
   ]
  },
  {
   "cell_type": "markdown",
   "metadata": {},
   "source": [
    "Consider a grid with\n",
    "- ``n=50``\n",
    "- ``L=1.0``"
   ]
  },
  {
   "cell_type": "code",
   "execution_count": null,
   "metadata": {},
   "outputs": [],
   "source": [
    "n = \n",
    "L = \n",
    "\n",
    "dx = L/n\n",
    "x = np.linspace(0, L, n)"
   ]
  },
  {
   "cell_type": "markdown",
   "metadata": {},
   "source": [
    "Define the left and right states\n",
    "\n",
    "\\begin{align}\n",
    "\t\\vec u_L = \n",
    "\t\\begin{bmatrix}\n",
    "\t\t\\rho_L \\\\ v_L \\\\ p_L \n",
    "\t\\end{bmatrix}\n",
    "\t= \n",
    "\t\\begin{bmatrix}\n",
    "\t\t1 \\\\ 0 \\\\ 1\n",
    "\t\\end{bmatrix},\n",
    "\t\\quad \\text{and} \\quad \n",
    "\t\\vec u_R = \n",
    "\t\\begin{bmatrix}\n",
    "\t\t\\rho_R \\\\ v_R \\\\ p_R\n",
    "\t\\end{bmatrix}\n",
    "\t= \n",
    "\t\\begin{bmatrix}\n",
    "\t\t\\frac{1}{8} \\\\ 0 \\\\ \\frac{1}{10}\n",
    "\t\\end{bmatrix}.\n",
    "\\end{align}\n"
   ]
  },
  {
   "cell_type": "code",
   "execution_count": null,
   "metadata": {},
   "outputs": [],
   "source": [
    "# Left state\n",
    "rhol = \n",
    "vl = \n",
    "pl = \n",
    "\n",
    "# Right state\n",
    "rhor =\n",
    "vr = \n",
    "pr = \n",
    "\n",
    "u0 = initialize_sod(x, rhol, vl, pl, rhor, vr, pr)"
   ]
  },
  {
   "cell_type": "markdown",
   "metadata": {},
   "source": [
    "Using a time-step size $\\Delta t=0.002$, advance the solution until $t=0.2$."
   ]
  },
  {
   "cell_type": "code",
   "execution_count": null,
   "metadata": {},
   "outputs": [],
   "source": [
    "dt = \n",
    "tf = "
   ]
  },
  {
   "cell_type": "code",
   "execution_count": null,
   "metadata": {},
   "outputs": [],
   "source": [
    "u_sod = advance_solution(u0, dt, tf)"
   ]
  },
  {
   "cell_type": "markdown",
   "metadata": {},
   "source": [
    "Plot the result from the implemented scheme and compare with the exact solution. Run the following cell to define the plotting function and generate the first plot."
   ]
  },
  {
   "cell_type": "code",
   "execution_count": null,
   "metadata": {},
   "outputs": [],
   "source": [
    "def plot_sod(u, title):\n",
    "    fig, ax = plt.subplots(figsize=(8, 2.5), ncols=3, sharex=True, sharey=True)\n",
    "\n",
    "    # Read file in notebooks/data directory\n",
    "    ue = np.loadtxt('data/sod-shock-tube.txt')\n",
    "\n",
    "    # Extract rho, v and p from file\n",
    "    x_e = ue[:, 0]\n",
    "    rho_e = ue[:, 1]\n",
    "    v_e = ue[:, 2]\n",
    "    p_e = ue[:, 3]\n",
    "\n",
    "    # Plot exact solution\n",
    "    ax[0].plot(x_e, rho_e, 'k', lw=1)\n",
    "    ax[1].plot(x_e, v_e, 'k', lw=1)\n",
    "    ax[2].plot(x_e, p_e, 'k', lw=1)\n",
    "\n",
    "    # Compute density, velocity and specific energy\n",
    "    rho = u_sod[0]\n",
    "    v = u_sod[1]/rho\n",
    "    E = u_sod[2]/rho\n",
    "\n",
    "    # Compute pressure using rho, v, E\n",
    "    p = (gamma - 1)*rho*(E - 0.5*v**2)\n",
    "\n",
    "    # Plot numerical results\n",
    "    ax[0].plot(x, rho, 'o', markersize=1.5, color='#bd0c00')\n",
    "    ax[1].plot(x, v, 'o', markersize=1.5, color='#bd0c00')\n",
    "    ax[2].plot(x, p, 'o', markersize=1.5, color='#bd0c00')\n",
    "\n",
    "    ax[0].set_ylabel(r'$\\rho$')\n",
    "    ax[1].set_ylabel(r'$v$')\n",
    "    ax[2].set_ylabel(r'$p$')\n",
    "\n",
    "    ax[0].set_xlabel(r'$x$')\n",
    "    ax[1].set_xlabel(r'$x$')\n",
    "    ax[2].set_xlabel(r'$x$')\n",
    "    \n",
    "    fig.suptitle(title)\n",
    "    \n",
    "plot_sod(u_sod, 'Roe Scheme')"
   ]
  },
  {
   "cell_type": "markdown",
   "metadata": {},
   "source": [
    "Increase the number of cells to 100 and rerun the previous cells. Has the solution improved significantly?"
   ]
  },
  {
   "cell_type": "markdown",
   "metadata": {},
   "source": [
    "**MUSCL Implementation**\n",
    "\n",
    "Let us now compare the previous results with higher-order MUSCL-reconstructed schemes.\n",
    "\n",
    "First, we will rewrite the ``residual`` function using the structure of MUSCL schemes. Complete the function.\n",
    "\n",
    "*(See the MUSCL Schemes notebook for an introduction to these methods and their implementation to linear advection)*.\n",
    "\n",
    "**Note**, we will consider Dirichlet boundary conditions and hence we will ignore the first and last two nodes in the grid. See the ``for``-loop implementation."
   ]
  },
  {
   "cell_type": "code",
   "execution_count": null,
   "metadata": {},
   "outputs": [],
   "source": [
    "def residual(u):\n",
    "    res = 0.0*u\n",
    "    b = 0\n",
    "    for i in range(2, n - 2):\n",
    "        # Interface i+1/2\n",
    "        dl = get_slope(u[i - 1], u[i], u[i + 1], b)\n",
    "        dr = \n",
    "\n",
    "        # Compute u_i+1/2,L and u_i+1/2,R\n",
    "        ul = \n",
    "        ur = \n",
    "\n",
    "        # Compute f_i+1/2 using the upwind Riemann solver\n",
    "        fR = roe_scheme(ul, ur)\n",
    "        \n",
    "        # Interface i-i/2\n",
    "        dl = get_slope(u[i - 2], u[i - 1], u[i], b)\n",
    "        dr = \n",
    "        \n",
    "        # Compute u_i-1/2,L and u_i-1/2,R\n",
    "        ul = \n",
    "        ur = \n",
    "        \n",
    "        # Computr f_i-1/2 using the upwind Rieman solver\n",
    "        fL = roe_scheme(ul, ur)\n",
    "        res[i] = -(fR - fL)/dx\n",
    "    return res"
   ]
  },
  {
   "cell_type": "markdown",
   "metadata": {},
   "source": [
    "Complete the ``get_slope`` function below with limiters following the theory in the textbook, then run the cell. For any three values of ``u``, ``u0``, ``u1`` and ``u2`` are ordered from left to right. For example, $u_{i-2}, u_{i-1}, u_i$."
   ]
  },
  {
   "cell_type": "code",
   "execution_count": null,
   "metadata": {},
   "outputs": [],
   "source": [
    "def get_slope(u0, u1, u2, b):\n",
    "    r = \n",
    "    phi = limiter(r)\n",
    "    delta = \n",
    "    return delta"
   ]
  },
  {
   "cell_type": "markdown",
   "metadata": {},
   "source": [
    "The limiter functions will be defined below. Following the example of the minmod limiter, complete the definition of ``van_leer`` and ``superbee``."
   ]
  },
  {
   "cell_type": "code",
   "execution_count": null,
   "metadata": {},
   "outputs": [],
   "source": [
    "def minmod(r):\n",
    "    l = np.zeros(3)\n",
    "    for i in range(3):\n",
    "        l[i] = max([0, min([1, r[i]])])\n",
    "    return l\n",
    "\n",
    "def superbee(r):\n",
    "    pass\n",
    "\n",
    "def van_leer(r):\n",
    "    pass"
   ]
  },
  {
   "cell_type": "markdown",
   "metadata": {},
   "source": [
    "Considering the same initial conditions previously defined, we initialize the problem using ``initialize_sod``"
   ]
  },
  {
   "cell_type": "code",
   "execution_count": null,
   "metadata": {},
   "outputs": [],
   "source": [
    "# Left state\n",
    "rhol = \n",
    "vl = \n",
    "pl = \n",
    "\n",
    "# Right state\n",
    "rhor =\n",
    "vr = \n",
    "pr = \n",
    "\n",
    "u0 = initialize_sod(x, rhol, vl, pl, rhor, vr, pr)"
   ]
  },
  {
   "cell_type": "markdown",
   "metadata": {},
   "source": [
    "We will now generate a plot for each of the implemented limiters"
   ]
  },
  {
   "cell_type": "code",
   "execution_count": null,
   "metadata": {
    "scrolled": true
   },
   "outputs": [],
   "source": [
    "limiter = minmod\n",
    "u_sod = advance_solution(u0, dt, tf)\n",
    "plot_sod(u_sod, 'MUSCL Scheme - minmod limiter')"
   ]
  },
  {
   "cell_type": "code",
   "execution_count": null,
   "metadata": {
    "scrolled": true
   },
   "outputs": [],
   "source": [
    "limiter = van_leer\n",
    "u_sod = advance_solution(u0, dt, tf)\n",
    "plot_sod(u_sod, 'MUSCL Scheme - van Leer limiter')"
   ]
  },
  {
   "cell_type": "code",
   "execution_count": null,
   "metadata": {},
   "outputs": [],
   "source": [
    "limiter = superbee\n",
    "u_sod = advance_solution(u0, dt, tf)\n",
    "plot_sod(u_sod, 'MUSCL Scheme - superbee limiter')"
   ]
  },
  {
   "cell_type": "markdown",
   "metadata": {},
   "source": [
    "- Repeat the above steps using 100 cells and compare your results with the Godunov scheme. Are there any benefits of using the MUSCL approach?\n",
    "- Which limiter would you recommend for the problem described here?"
   ]
  }
 ],
 "metadata": {
  "kernelspec": {
   "display_name": "Python 3",
   "language": "python",
   "name": "python3"
  },
  "language_info": {
   "codemirror_mode": {
    "name": "ipython",
    "version": 3
   },
   "file_extension": ".py",
   "mimetype": "text/x-python",
   "name": "python",
   "nbconvert_exporter": "python",
   "pygments_lexer": "ipython3",
   "version": "3.7.6"
  }
 },
 "nbformat": 4,
 "nbformat_minor": 4
}
