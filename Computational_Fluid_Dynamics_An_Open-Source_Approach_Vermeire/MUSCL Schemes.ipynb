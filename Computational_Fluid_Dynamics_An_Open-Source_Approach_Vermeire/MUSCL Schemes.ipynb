{
 "cells": [
  {
   "cell_type": "markdown",
   "metadata": {},
   "source": [
    "## MUSCL Schemes\n",
    "\n",
    "In this notebook, we will explore high-order finite volume via MUSCL reconstruction.\n",
    "\n",
    "To run each of the following cells, use the keyboard shortcut **SHIFT** + **ENTER**, press the button ``Run`` in the toolbar or find the option ``Cell > Run Cells`` from the menu bar. For more shortcuts, see ``Help > Keyboard Shortcuts``.\n",
    "\n",
    "To get started, import the required Python modules by running the cell below."
   ]
  },
  {
   "cell_type": "code",
   "execution_count": null,
   "metadata": {},
   "outputs": [],
   "source": [
    "# Configuration for visualizing the plots\n",
    "%matplotlib notebook\n",
    "%config InlineBackend.figure_format = 'retina'\n",
    "\n",
    "# Required modules\n",
    "import numpy as np\n",
    "import matplotlib.pyplot as plt\n",
    "\n",
    "# Import figure style and custom functions\n",
    "import nbtools as nb"
   ]
  },
  {
   "cell_type": "markdown",
   "metadata": {},
   "source": [
    "We wil implement finite-volume methods based on MUSCL reconstruction to solve \n",
    "\n",
    "\\begin{align}\n",
    "\t\\frac{\\partial u}{\\partial t} + \\frac{\\partial u}{\\partial x} = 0,\n",
    "\\end{align}\n",
    "on a grid $x\\in[0,2]$ with periodic boundary conditions. \n",
    "\n",
    "Following the example in the textbook, we implement ``residual`` to compute the residual using the second-order upwind-biased method. For the advection scheme, we use a Riemann solver of the form $F(u_L,u_R) = F(u_L)$. \n",
    "\n",
    "**Note**: Only ``dl`` is implemented due to the upwind Riemann solver. Later, you will need to implement the right slope ``dr``.\n",
    "\n",
    "Complete the functions below. For any three values of ``u``, ``u0``, ``u1`` and ``u2`` are ordered from left to right in ``get_slope``. For example, $u_{i-2}, u_{i-1}, u_i$."
   ]
  },
  {
   "cell_type": "code",
   "execution_count": null,
   "metadata": {},
   "outputs": [],
   "source": [
    "def get_slope(u0, u1, u2, b):\n",
    "    # Linear reconstruction\n",
    "    delta = # Complete definition for delta_i\n",
    "    return delta\n",
    "\n",
    "def residual(u, a, dx):\n",
    "    # Initialize residual vector\n",
    "    res = 0.0*u\n",
    "    b = 0.0\n",
    "    for i in range(n):\n",
    "        # Interface i+1/2\n",
    "        if i == n - 1:\n",
    "            # Enforce periodic BC at x=L\n",
    "            dl = get_slope(u[i - 1], u[i], u[0], b)\n",
    "        else:\n",
    "            dl = get_slope(u[i - 1], u[i], u[i + 1], b)\n",
    "            \n",
    "        # Compute u_i+1/2,L\n",
    "        ul = \n",
    "        \n",
    "        # Compute f_i+1/2=a*uL using the upwind Riemann solver\n",
    "        fR = a*ul\n",
    "        \n",
    "        # Interface i-i/2\n",
    "        dl = get_slope(u[i - 2], u[i - 1], u[i], b) \n",
    "        \n",
    "        # Compute u_i-1/2,L\n",
    "        ul = \n",
    "        \n",
    "        # Computr f_i-1/2=a*uL using the upwind Rieman solver\n",
    "        fL = \n",
    "        \n",
    "        res[i] = -(fupw_R - fupw_L)/dx\n",
    "    return res"
   ]
  },
  {
   "cell_type": "markdown",
   "metadata": {},
   "source": [
    "To advance the solution in time, we provide the second-order midpoint method from the Time-Stepping Methods notebook."
   ]
  },
  {
   "cell_type": "code",
   "execution_count": null,
   "metadata": {},
   "outputs": [],
   "source": [
    "def advance_solution(ut, a, dx, dt, tf):\n",
    "    t = 0\n",
    "    while t < tf:\n",
    "        r = residual(ut, a, dx)\n",
    "        um = ut + 0.5*dt*r\n",
    "        rm = residual(um, a, dx)\n",
    "        uf = ut + 1.0*dt*rm\n",
    "        ut = 1.0*uf\n",
    "        t += dt \n",
    "    return ut"
   ]
  },
  {
   "cell_type": "markdown",
   "metadata": {},
   "source": [
    "Complete the following cell to set the initial parameters of the problem. Consider\n",
    "- ``a = 1.0``\n",
    "- ``n = 300``\n",
    "- ``L = 2.0``\n",
    "- ``dt = 2e-3``\n",
    "- ``tf = 2.0``\n",
    "The initial solution profile is given by\n",
    "\\begin{align}\n",
    "\tu(x, 0) &= \n",
    "\t\\begin{cases}\n",
    "\t\te^{-20(x-0.5)^2} & \\text{if } x < 1.2, \\\\ \n",
    "\t\t1 & \\text{if } 1.2 < x < 1.5,\t \\\\\n",
    "\t\t0 & \\text{otherwise}.\n",
    "\t\\end{cases}\n",
    "\\end{align}"
   ]
  },
  {
   "cell_type": "code",
   "execution_count": null,
   "metadata": {},
   "outputs": [],
   "source": [
    "a = \n",
    "n = \n",
    "L = \n",
    "dt = \n",
    "tf = \n",
    "\n",
    "# Calculate mesh spacing and grid points\n",
    "dx = L/n \n",
    "x = np.arange(0, L, dx)\n",
    "\n",
    "# Initialize the solution\n",
    "u0 = np.zeros(n)\n",
    "for i, xval in enumerate(x):\n",
    "    if xval < 1.2:\n",
    "        u0[i] = \n",
    "    elif 1.2 < xval < 1.5:\n",
    "        u0[i] = \n",
    "    else:\n",
    "        u0[i] = "
   ]
  },
  {
   "cell_type": "markdown",
   "metadata": {},
   "source": [
    "Run the following cell to advance the solution using the time-stepping function provided above"
   ]
  },
  {
   "cell_type": "code",
   "execution_count": null,
   "metadata": {},
   "outputs": [],
   "source": [
    "u_adv = advance_solution(u0, a, dx, dt, tf)"
   ]
  },
  {
   "cell_type": "markdown",
   "metadata": {},
   "source": [
    "Compute the total variation (TV) of the initial and the final solution. Is this method TVD?\n",
    "\n",
    "Complete the TV calculation of the final solution."
   ]
  },
  {
   "cell_type": "code",
   "execution_count": null,
   "metadata": {},
   "outputs": [],
   "source": [
    "tv_u0 = np.sum(np.abs(u0[1:] - u0[:-1]))\n",
    "tv_uf = \n",
    "\n",
    "if tv_uf <= tv_u0:\n",
    "    print('Scheme is TVD')\n",
    "else:\n",
    "    print('Scheme is not TVD')"
   ]
  },
  {
   "cell_type": "markdown",
   "metadata": {},
   "source": [
    "Plot the solution of the second-order upwind-biased scheme and compare with initial solution"
   ]
  },
  {
   "cell_type": "code",
   "execution_count": null,
   "metadata": {},
   "outputs": [],
   "source": [
    "plt.figure(0)\n",
    "plt.plot(x, u0, 'k', lw=1, label=r'$u(x,0)$')\n",
    "plt.plot(x, u_adv, 'o', color='#bd0c00', ms=1.5, label=r'$u(x,t^*)$')\n",
    "plt.legend()"
   ]
  },
  {
   "cell_type": "markdown",
   "metadata": {},
   "source": [
    "To preserve the monotonicity of the scheme, we need to define limiter functions. Complete the ``van_leer`` and ``superbee`` limiters using the formulations shown in the textbook."
   ]
  },
  {
   "cell_type": "code",
   "execution_count": null,
   "metadata": {},
   "outputs": [],
   "source": [
    "def minmod(r):\n",
    "    return max([0, min([1, r])])\n",
    "    \n",
    "def van_leer(r):\n",
    "    return \n",
    "\n",
    "def superbee(r):\n",
    "    return "
   ]
  },
  {
   "cell_type": "markdown",
   "metadata": {},
   "source": [
    "Complete the ``get_slope`` function below to include the limiters following the theory in the textbook, then run the cell. \n",
    "**Note:**, you will need to add ``ep`` to any division by ``r`` to avoid infinity."
   ]
  },
  {
   "cell_type": "code",
   "execution_count": null,
   "metadata": {},
   "outputs": [],
   "source": [
    "def get_slope(u0, u1, u2, b):\n",
    "    ep = 1e-20\n",
    "    # Compute ratio of slopes\n",
    "    r = \n",
    "    phi = limiter(r)\n",
    "    # Compute limited slope\n",
    "    delta = \n",
    "    return delta"
   ]
  },
  {
   "cell_type": "markdown",
   "metadata": {},
   "source": [
    "For each of the limiter functions implemented above, generate a plot of the solution to compare results."
   ]
  },
  {
   "cell_type": "code",
   "execution_count": null,
   "metadata": {},
   "outputs": [],
   "source": [
    "fig, ax = plt.subplots(figsize=(8, 2.5), ncols=3, sharex=True, sharey=True)\n",
    "\n",
    "# Minmod limiter\n",
    "limiter = minmod\n",
    "u_adv = advance_solution(u0, a, dx, dt, tf) \n",
    "ax[0].plot(x, u0, 'k', lw=1)\n",
    "ax[0].plot(x, u_adv, 'o', markersize=1.5, color='#bd0c00')\n",
    "ax[0].set_ylabel('$u$')\n",
    "ax[0].set_xlabel('$x$')\n",
    "ax[0].set_title('minmod')\n",
    "\n",
    "# van Leer limiter\n",
    "limiter = van_leer\n",
    "u_adv = advance_solution(u0, a, dx, dt, tf) \n",
    "ax[1].plot(x, u0, 'k', lw=1)\n",
    "ax[1].plot(x, u_adv, 'o', markersize=1.5, color='#bd0c00')\n",
    "ax[1].set_ylabel('$u$')\n",
    "ax[1].set_xlabel('$x$')\n",
    "ax[1].set_title('van Leer')\n",
    "\n",
    "# Superbee limiter\n",
    "limiter = superbee\n",
    "u_adv = advance_solution(u0, a, dx, dt, tf) \n",
    "ax[2].plot(x, u0, 'k', lw=1)\n",
    "ax[2].plot(x, u_adv, 'o', markersize=1.5, color='#bd0c00')\n",
    "ax[2].set_ylabel('$u$')\n",
    "ax[2].set_xlabel('$x$')\n",
    "ax[2].set_title('superbee')\n",
    "\n",
    "plt.tight_layout()"
   ]
  },
  {
   "cell_type": "markdown",
   "metadata": {},
   "source": [
    "## Activities\n",
    "- What are the advantages and disadvantages of increasing the order of the scheme?\n",
    "- Check whether the schemes with limiter functions are now TVD\n",
    "- Modify the definition of ``residual`` to use a Riemann solver of the form $F(u_L, u_R)$. To achieve this, we have implemented a function named ``riemann_solver``. Complete the code to ompute the ``dr`` slopes at each interface. Templates are provided below.\n",
    "- Note: \n",
    "    - Additional ``if`` statements need to be added to enforce periodic boundary conditions to compute ``ur`` and ``dr``.\n",
    "    - For linear advection, the Riemann solver is expected to return only ``ul``."
   ]
  },
  {
   "cell_type": "code",
   "execution_count": null,
   "metadata": {},
   "outputs": [],
   "source": [
    "def riemann_solver(ul, ur):\n",
    "    return ul\n",
    "    \n",
    "def residual(u, a, dx):\n",
    "    res = 0.0*u\n",
    "    b = 0.0\n",
    "    for i in range(n):\n",
    "        # Interface i+1/2\n",
    "        if i == n - 1:\n",
    "            # Enforce periodic BC at x=L\n",
    "            dl = get_slope(u[i - 1], u[i], u[0], b)\n",
    "            dr = \n",
    "        elif i == n - 2:\n",
    "            dl = \n",
    "            dr = \n",
    "        else:\n",
    "            dl = get_slope(u[i - 1], u[i], u[i + 1], b)\n",
    "            dr = \n",
    "            \n",
    "        # Compute u_i+1/2,L and u_i+1/2,R\n",
    "        ul = u[i] + 0.5*dl\n",
    "        ur = \n",
    "        \n",
    "        # Compute f_i+1/2 using the upwind Riemann solver\n",
    "        fR = riemann_solver(ul, ur)\n",
    "        \n",
    "        # Interface i-i/2\n",
    "        dl = get_slope(u[i - 2], u[i - 1], u[i], b) \n",
    "        dr = \n",
    "        \n",
    "        # Compute u_i-1/2,L and u_i-1/2,R\n",
    "        ul = u[i - 1] + 0.5*dl\n",
    "        ur = \n",
    "        \n",
    "        # Computr f_i-1/2 using the upwind Rieman solver\n",
    "        fL = riemann_solver(ul, ur)\n",
    "        \n",
    "        res[i] = -(fR - fL)/dx\n",
    "    return res"
   ]
  },
  {
   "cell_type": "markdown",
   "metadata": {},
   "source": [
    "Rewrite ``riemann_solver`` so that it uses a Roe solver for the Burgers equation. Then, run the following cell to see your implementation"
   ]
  },
  {
   "cell_type": "code",
   "execution_count": null,
   "metadata": {},
   "outputs": [],
   "source": [
    "n = 100\n",
    "L = 1.0\n",
    "dt = 0.001\n",
    "tf = 0.5\n",
    "\n",
    "# Calculate mesh spacing and grid points\n",
    "dx = L/n \n",
    "x = np.arange(0, L, dx)\n",
    "\n",
    "# Define limiter to use\n",
    "limiter = minmod\n",
    "\n",
    "u0 = np.exp(-40 * (x - 1/2)**2)\n",
    "u_burgers = advance_solution(u0, 1, dx, dt, tf) \n",
    "\n",
    "plt.figure()\n",
    "plt.plot(x, u_burgers)"
   ]
  }
 ],
 "metadata": {
  "kernelspec": {
   "display_name": "Python 3",
   "language": "python",
   "name": "python3"
  },
  "language_info": {
   "codemirror_mode": {
    "name": "ipython",
    "version": 3
   },
   "file_extension": ".py",
   "mimetype": "text/x-python",
   "name": "python",
   "nbconvert_exporter": "python",
   "pygments_lexer": "ipython3",
   "version": "3.7.6"
  }
 },
 "nbformat": 4,
 "nbformat_minor": 2
}
