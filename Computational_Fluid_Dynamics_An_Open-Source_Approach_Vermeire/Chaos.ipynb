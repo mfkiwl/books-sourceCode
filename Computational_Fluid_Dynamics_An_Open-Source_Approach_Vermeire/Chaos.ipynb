{
 "cells": [
  {
   "cell_type": "markdown",
   "metadata": {},
   "source": [
    "# Introduction to Chaos\n",
    "\n",
    "In this notebook, we will explore the logistic function.\n",
    "\n",
    "To run each of the following cells, use the keyboard shortcut **SHIFT** + **ENTER**, press the button ``Run`` in the toolbar or find the option ``Cell > Run Cells`` from the menu bar. For more shortcuts, see ``Help > Keyboard Shortcuts``.\n",
    "\n",
    "To get started, import the required Python modules by running the cell below."
   ]
  },
  {
   "cell_type": "code",
   "execution_count": null,
   "metadata": {},
   "outputs": [],
   "source": [
    "# Import figure style and custom functions\n",
    "import nbtools as nb\n",
    "%config InlineBackend.figure_format = 'retina'\n",
    "\n",
    "# Required modules\n",
    "import numpy as np\n",
    "import matplotlib.pyplot as plt\n",
    "\n",
    "# Import figure style and custom functions\n",
    "import nbtools as nb"
   ]
  },
  {
   "cell_type": "markdown",
   "metadata": {},
   "source": [
    "Recall the logistic function\n",
    "\n",
    "$$ x_{n+1} = ax_n(1-x_n) $$\n",
    "\n",
    "We can write a simple function that returns the value of $x_{n+1}$ after one iteration."
   ]
  },
  {
   "cell_type": "code",
   "execution_count": null,
   "metadata": {},
   "outputs": [],
   "source": [
    "def logistic(a, x):\n",
    "    return a*x*(1-x)"
   ]
  },
  {
   "cell_type": "markdown",
   "metadata": {},
   "source": [
    "Let's see what happens if we use different values of $a$. For example, choose a value of $a\\leq3$ and assign it to the variable below. We'll choose an initial guess of ``x_0 = 0.1`` and ``n=1000`` iterations."
   ]
  },
  {
   "cell_type": "code",
   "execution_count": null,
   "metadata": {},
   "outputs": [],
   "source": [
    "a = 0.01\n",
    "x = 0.01\n",
    "n = 1000\n",
    "for i in range(n):\n",
    "    x = logistic(a, x)\n",
    "print('x: ', x)"
   ]
  },
  {
   "cell_type": "markdown",
   "metadata": {},
   "source": [
    "Did it converge to the expected value? "
   ]
  },
  {
   "cell_type": "code",
   "execution_count": null,
   "metadata": {},
   "outputs": [],
   "source": [
    "# Expected values for a <= 3\n",
    "if a >= 1:\n",
    "    print('Expected: ', (a-1)/a)\n",
    "else:\n",
    "    print('Expected: ', 0)"
   ]
  },
  {
   "cell_type": "markdown",
   "metadata": {},
   "source": [
    "If it didn't, you can get closer to $(a-1)/a$ by using a more appropriate initial guess or increase the number of iterations.\n",
    "\n",
    "Now, let's increase the value of $a$ so that it is in the range $ 3 < a \\leq 1 + \\sqrt{6}$. This time, run the logistic function using two values of ``n``, ``n=1000`` and ``n=1001``.  "
   ]
  },
  {
   "cell_type": "code",
   "execution_count": null,
   "metadata": {},
   "outputs": [],
   "source": [
    "a = # Choose a value of a\n",
    "x = 0.01\n",
    "n = 1000\n",
    "for i in range(n):\n",
    "    x = logistic(a, x)\n",
    "print('x: ', x)"
   ]
  },
  {
   "cell_type": "code",
   "execution_count": null,
   "metadata": {},
   "outputs": [],
   "source": [
    "a = # Choose a value of a (same as above)\n",
    "x = 0.01\n",
    "n = 1001\n",
    "for i in range(n):\n",
    "    x = logistic(a, x)\n",
    "print('x: ', x)"
   ]
  },
  {
   "cell_type": "markdown",
   "metadata": {},
   "source": [
    "Now increase the value of ``n``. Are the results different? Repeat this step for four large values of ``n`` when \n",
    "$1 + \\sqrt{6} < a \\leq 3.54\\ldots$\n",
    "\n",
    "Find the four values of $x$ to which the solution converges if we use\n",
    " - $x_0=0.1$,\n",
    " - $a = 3.54$"
   ]
  },
  {
   "cell_type": "code",
   "execution_count": null,
   "metadata": {},
   "outputs": [],
   "source": [
    "# Determine here the four possible solutions"
   ]
  },
  {
   "cell_type": "markdown",
   "metadata": {},
   "source": [
    "Further increasing the value of $a$ will make our computations difficult to visualize one by one. Run the following cell to visualize a convergence plot for $\\leq 3.54\\ldots < a \\leq 3.57\\ldots$."
   ]
  },
  {
   "cell_type": "code",
   "execution_count": null,
   "metadata": {},
   "outputs": [],
   "source": [
    "plt.figure(0)\n",
    "plt.xlabel('$n$')\n",
    "plt.ylabel('$x$')\n",
    "a = 3.56\n",
    "x = 0.01\n",
    "n = 1001\n",
    "for i in range(n):\n",
    "    x = logistic(a, x)\n",
    "    plt.plot(i, x, 'ok', markersize=1)"
   ]
  },
  {
   "cell_type": "markdown",
   "metadata": {},
   "source": [
    "How about increasing the value of $a$ to 3.58?"
   ]
  },
  {
   "cell_type": "code",
   "execution_count": null,
   "metadata": {},
   "outputs": [],
   "source": [
    "plt.figure(1)\n",
    "plt.ylim(0, 1)\n",
    "\n",
    "a = 3.581\n",
    "x = 0.01\n",
    "n = 1001\n",
    "\n",
    "for i in range(n):\n",
    "    x = logistic(a, x)\n",
    "    plt.plot(i, x, 'ok', markersize=1)"
   ]
  },
  {
   "cell_type": "markdown",
   "metadata": {},
   "source": [
    "Update the plot above using a slightly different value of $a > 3.57\\ldots$."
   ]
  },
  {
   "cell_type": "code",
   "execution_count": null,
   "metadata": {},
   "outputs": [],
   "source": [
    "plt.figure(1)\n",
    "\n",
    "a = # Slightly change the value of a\n",
    "x = 0.01\n",
    "n = 1001\n",
    "\n",
    "for i in range(n):\n",
    "    x = logistic(a, x)\n",
    "    plt.plot(i, x, 'ob', markersize=1)"
   ]
  },
  {
   "cell_type": "markdown",
   "metadata": {},
   "source": [
    "How different are the results? \n",
    "\n",
    "We can visualize all posible converged values of $x$ by plotting a logistic map. Run the following cell to obtain the figure."
   ]
  },
  {
   "cell_type": "code",
   "execution_count": null,
   "metadata": {},
   "outputs": [],
   "source": [
    "plt.figure(2)\n",
    "\n",
    "# Define multiple values of a simultaneously\n",
    "na = 10000\n",
    "a = np.linspace(1, 4.0, na)\n",
    "\n",
    "# Define an initial condition for each value of a\n",
    "x = 1e-5 * np.ones(na)\n",
    "\n",
    "n = 1000\n",
    "# Run and plot x for large values of n (converged solutions)\n",
    "for i in range(n):\n",
    "    x = logistic(a, x)\n",
    "    if i > 950:\n",
    "        plt.plot(a, x, ',k')\n",
    "\n",
    "plt.xlabel('$a$')\n",
    "plt.ylabel('$x$')"
   ]
  }
 ],
 "metadata": {
  "kernelspec": {
   "display_name": "Python 3",
   "language": "python",
   "name": "python3"
  },
  "language_info": {
   "codemirror_mode": {
    "name": "ipython",
    "version": 3
   },
   "file_extension": ".py",
   "mimetype": "text/x-python",
   "name": "python",
   "nbconvert_exporter": "python",
   "pygments_lexer": "ipython3",
   "version": "3.7.6"
  }
 },
 "nbformat": 4,
 "nbformat_minor": 2
}
