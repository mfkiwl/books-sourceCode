
<div style='background-image: url("title01.png") ; padding: 0px ; background-size: cover ; border-radius: 5px ; height: 200px'>
<div style="float: right ; margin: 50px ; padding: 20px ; background: rgba(255 , 255 , 255 , 0.7) ; width: 50% ; height: 150px">
<div style="position: relative ; top: 50% ; transform: translatey(-50%)">
            <div style="font-size: xx-large ; font-weight: 900 ; color: rgba(0 , 0 , 0 , 0.8) ; line-height: 100%">Computers, Waves, Simulations</div>
            <div style="font-size: large ; padding-top: 20px ; color: rgba(0 , 0 , 0 , 0.5)">Jupyter Notebooks Introduction</div>
        </div>
    </div>
</div>

#### This exercise covers the following aspects:

* How to operate Jupyter notebooks
* How to save your work
* How to start new cells
* How to format cells
* How to get help

Double-click on the test here  to see that it is  formatted as markdown. Got to the "Help" option at the top and find your way to the markdown description. Format the next cell as markdown and add some structured text (e.g., headline with a list of things). 

Let us write a bit of code and run it. Run the cell with >Cell > Run all or "Shift Return" or the run cell button at the top (to the left of the black square). Change the statement to something more intelligent. 


```python
# I am a python code

print("Hello World!")
```

    Hello World


Let us illustrate the cool option include external graphs with www links. Check out the syntax by double-clicking in the figure 
<img src="https://www.nasa.gov/sites/default/files/styles/full_width_feature/public/thumbnails/image/iss056e162821.jpg"
     style="float: left; margin-right: 10px;" />



Find a picture of your liking locally or on the www and show it here:

# Save our work!

If you work on Coursera or on http://www.seismo-live.org make and you change the codes make sure you save your work by going to > File > Download as  ... and save the notebook somewhere on your device for later use. Do that now!

Hope that helped!
