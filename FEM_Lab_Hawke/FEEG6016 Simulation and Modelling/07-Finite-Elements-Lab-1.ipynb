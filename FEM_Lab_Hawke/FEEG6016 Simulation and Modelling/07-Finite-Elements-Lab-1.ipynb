{
 "cells": [
  {
   "cell_type": "markdown",
   "metadata": {},
   "source": [
    "# Finite Elements Lab 1 Worksheet"
   ]
  },
  {
   "cell_type": "code",
   "execution_count": 1,
   "metadata": {},
   "outputs": [
    {
     "data": {
      "text/html": [
       "<link href='http://fonts.googleapis.com/css?family=Open+Sans:100,300,400,500,700,800,900,100italic,300italic,400italic,500italic,700italic,800italic,900italic' rel='stylesheet' type='text/css'>\n",
       "<link href='http://fonts.googleapis.com/css?family=Arvo:400,700,400italic' rel='stylesheet' type='text/css'>\n",
       "<link href='http://fonts.googleapis.com/css?family=PT+Mono' rel='stylesheet' type='text/css'>\n",
       "<link href='http://fonts.googleapis.com/css?family=Shadows+Into+Light' rel='stylesheet' type='text/css'>\n",
       "<link href='http://fonts.googleapis.com/css?family=Nixie+One' rel='stylesheet' type='text/css'>\n",
       "<style>\n",
       "\n",
       "@font-face {\n",
       "    font-family: \"Computer Modern\";\n",
       "    src: url('http://mirrors.ctan.org/fonts/cm-unicode/fonts/otf/cmunss.otf');\n",
       "}\n",
       "\n",
       "#notebook_panel { /* main background */\n",
       "    background: rgb(245,245,245);\n",
       "}\n",
       "\n",
       "div.cell { /* set cell width */\n",
       "    width: 1000px;\n",
       "}\n",
       "\n",
       "div #notebook { /* centre the content */\n",
       "    background: #fff; /* white background for content */\n",
       "    width: 1200px;\n",
       "    margin: auto;\n",
       "    padding-left: 0em;\n",
       "}\n",
       "\n",
       "#notebook li { /* More space between bullet points */\n",
       "margin-top:0.8em;\n",
       "}\n",
       "\n",
       "/* draw border around running cells */\n",
       "div.cell.border-box-sizing.code_cell.running { \n",
       "    border: 1px solid #111;\n",
       "}\n",
       "\n",
       "/* Put a solid color box around each cell and its output, visually linking them*/\n",
       "div.cell.code_cell {\n",
       "    background-color: rgb(256,256,256); \n",
       "    border-radius: 0px; \n",
       "    padding: 0.5em;\n",
       "    margin-left:1em;\n",
       "    margin-top: 1em;\n",
       "}\n",
       "\n",
       "div.text_cell_render{\n",
       "    font-family: 'Open Sans' sans-serif;\n",
       "    line-height: 140%;\n",
       "    font-size: 125%;\n",
       "    font-weight: 400;\n",
       "    width:900px;\n",
       "    margin-left:auto;\n",
       "    margin-right:auto;\n",
       "}\n",
       "\n",
       "\n",
       "/* Formatting for header cells */\n",
       ".text_cell_render h1 {\n",
       "    font-family: 'Arvo', serif;\n",
       "    font-style:regular;\n",
       "    font-weight: 400;    \n",
       "    font-size: 45pt;\n",
       "    line-height: 100%;\n",
       "    color: rgb(0,51,102);\n",
       "    margin-bottom: 0.5em;\n",
       "    margin-top: 0.5em;\n",
       "    display: block;\n",
       "}\t\n",
       ".text_cell_render h2 {\n",
       "    font-family: 'Arvo', serif;\n",
       "    font-weight: 400;\n",
       "    font-size: 30pt;\n",
       "    line-height: 100%;\n",
       "    color: rgb(0,51,102);\n",
       "    margin-bottom: 0.1em;\n",
       "    margin-top: 0.3em;\n",
       "    display: block;\n",
       "}\t\n",
       "\n",
       ".text_cell_render h3 {\n",
       "    font-family: 'Arvo', serif;\n",
       "    margin-top:16px;\n",
       "\tfont-size: 22pt;\n",
       "    font-weight: 600;\n",
       "    margin-bottom: 3px;\n",
       "    font-style: regular;\n",
       "    color: rgb(102,102,0);\n",
       "}\n",
       "\n",
       ".text_cell_render h4 {    /*Use this for captions*/\n",
       "    font-family: 'Arvo', serif;\n",
       "    font-size: 14pt;\n",
       "    text-align: center;\n",
       "    margin-top: 0em;\n",
       "    margin-bottom: 2em;\n",
       "    font-style: regular;\n",
       "}\n",
       "\n",
       ".text_cell_render h5 {  /*Use this for small titles*/\n",
       "    font-family: 'Arvo', sans-serif;\n",
       "    font-weight: 400;\n",
       "    font-size: 16pt;\n",
       "    color: rgb(163,0,0);\n",
       "    font-style: italic;\n",
       "    margin-bottom: .1em;\n",
       "    margin-top: 0.8em;\n",
       "    display: block;\n",
       "}\n",
       "\n",
       ".text_cell_render h6 { /*use this for copyright note*/\n",
       "    font-family: 'PT Mono', sans-serif;\n",
       "    font-weight: 300;\n",
       "    font-size: 9pt;\n",
       "    line-height: 100%;\n",
       "    color: grey;\n",
       "    margin-bottom: 1px;\n",
       "    margin-top: 1px;\n",
       "}\n",
       "\n",
       ".CodeMirror{\n",
       "        font-family: \"PT Mono\";\n",
       "        font-size: 90%;\n",
       "}\n",
       "\n",
       "</style>\n",
       "<script>\n",
       "    MathJax.Hub.Config({\n",
       "                        TeX: {\n",
       "                           extensions: [\"AMSmath.js\"],\n",
       "                           equationNumbers: { autoNumber: \"AMS\", useLabelIds: true}\n",
       "                           },\n",
       "                tex2jax: {\n",
       "                    inlineMath: [ ['$','$'], [\"\\\\(\",\"\\\\)\"] ],\n",
       "                    displayMath: [ ['$$','$$'], [\"\\\\[\",\"\\\\]\"] ]\n",
       "                },\n",
       "                displayAlign: 'center', // Change this to 'center' to center equations.\n",
       "                \"HTML-CSS\": {\n",
       "                    styles: {'.MathJax_Display': {\"margin\": 4}}\n",
       "                }\n",
       "        });\n",
       "</script>\n"
      ],
      "text/plain": [
       "<IPython.core.display.HTML object>"
      ]
     },
     "execution_count": 1,
     "metadata": {},
     "output_type": "execute_result"
    }
   ],
   "source": [
    "from IPython.core.display import HTML\n",
    "css_file = 'https://raw.githubusercontent.com/ngcm/training-public/master/ipython_notebook_styles/ngcmstyle.css'\n",
    "HTML(url=css_file)"
   ]
  },
  {
   "cell_type": "markdown",
   "metadata": {},
   "source": [
    "## 1d problem"
   ]
  },
  {
   "cell_type": "markdown",
   "metadata": {},
   "source": [
    "The temperature $T$ of a bar of length $1$ at equilibrium satisfies\n",
    "\n",
    "$$\n",
    "  \\partial_{xx} T + f(x) = 0.\n",
    "$$\n",
    "\n",
    "The heat source is given by $f(x)$. We'll hold the temperature fixed at the right edge by setting $T(1) = 0$. We'll allow heat to conduct through the left edge by setting $\\partial_x T(0) = 0$."
   ]
  },
  {
   "cell_type": "markdown",
   "metadata": {},
   "source": [
    "Dealing with the second derivative is a problem, so we want to remove some derivatives from the formulation. Introducing a *weighting* function $w(x)$. Multiply the equation by $w$ and integrate by parts to get\n",
    "\n",
    "$$\n",
    "  \\left[ \\partial_x T(x) w(x) \\right]_0^1 - \\int_0^1 \\text{d}x \\, \\partial_x T(x) \\partial_x w(x) = - \\int_0^1 \\text{d}x \\, f(x) w(x).\n",
    "$$\n",
    "\n",
    "Putting in the boundary conditions gives\n",
    "\n",
    "$$\n",
    "  \\int_0^1 \\text{d}x \\, \\partial_x T(x) \\partial_x w(x) = \\int_0^1 \\text{d}x \\, w(x) f(x).\n",
    "$$\n",
    "\n",
    "This is the **weak form**. It can be proved that solutions of the *strong* form (with two derivatives) are also solutions of the weak form, and vice versa."
   ]
  },
  {
   "cell_type": "markdown",
   "metadata": {},
   "source": [
    "### Function representation"
   ]
  },
  {
   "cell_type": "markdown",
   "metadata": {},
   "source": [
    "To get an approximate solution we split the domain into intervals, or elements. To start we'll choose $[0, 1/2]$ and $[1/2, 1]$, which means there are nodes at $\\{ 0, 1/2, 1 \\}$. We want to represent all unknown functions ($T, w$) on these elements. We'll introduce some *shape* or *basis* functions $N_A(x)$ and write, for example, \n",
    "\n",
    "$$\n",
    "  T(x) = \\sum_A T_A N_A(x).\n",
    "$$\n",
    "\n",
    "Here $A$ is a counter associated with the nodes, so here $A = \\{ 0, 1, 2 \\}$: the nodes are labelled $x_A$. The shape function $N_A(x)$ is $1$ at the associated node, and $0$ at all other nodes. If we choose the shape functions to be piecewise linear then the three shape functions therefore look like\n",
    "\n",
    "$$\n",
    "\\begin{align}\n",
    "  N_0(x) &= \\begin{cases} 1 - 2 x, & 0 \\le x \\le 1/2 \\\\ 0, & 1/2 \\le x \\le 1, \\end{cases}, \\\\\n",
    "  N_1(x) &= \\begin{cases} 2 x, & 0 \\le x \\le 1/2 \\\\ 2 - 2 x, & 1/2 \\le x \\le 1, \\end{cases}, \\\\\n",
    "  N_2(x) &= \\begin{cases} 0, & 0 \\le x \\le 1/2 \\\\ 2 x - 1, & 1/2 \\le x \\le 1. \\end{cases}\n",
    "\\end{align}\n",
    "$$"
   ]
  },
  {
   "cell_type": "code",
   "execution_count": 2,
   "metadata": {
    "collapsed": true
   },
   "outputs": [],
   "source": [
    "%matplotlib inline\n",
    "import numpy\n",
    "from matplotlib import pyplot\n",
    "from matplotlib import rcParams\n",
    "rcParams['font.family'] = 'serif'\n",
    "rcParams['font.size'] = 16\n",
    "rcParams['figure.figsize'] = (12,6)"
   ]
  },
  {
   "cell_type": "code",
   "execution_count": 3,
   "metadata": {},
   "outputs": [
    {
     "data": {
      "image/png": "[encoded data removed]",
      "text/plain": [
       "<matplotlib.figure.Figure at 0x10df80f28>"
      ]
     },
     "metadata": {},
     "output_type": "display_data"
    }
   ],
   "source": [
    "x = numpy.linspace(0, 1, 1000)\n",
    "N0 = numpy.where(x <= 0.5, 1-2*x, numpy.zeros_like(x))\n",
    "N1 = numpy.where(x <= 0.5, 2*x, 2-2*x)\n",
    "N2 = numpy.where(x <= 0.5, numpy.zeros_like(x), 2*x-1)\n",
    "pyplot.figure()\n",
    "pyplot.plot(x, N0, label=r\"$N_0$\")\n",
    "pyplot.plot(x, N1, label=r\"$N_1$\")\n",
    "pyplot.plot(x, N2, label=r\"$N_2$\")\n",
    "pyplot.xlabel(r\"$x$\")\n",
    "pyplot.ylim(-0.1, 1.1)\n",
    "pyplot.legend();"
   ]
  },
  {
   "cell_type": "markdown",
   "metadata": {},
   "source": [
    "With this definition of the shape functions, the coefficients are given exactly as (e.g.) $T_A = T(x_A)$. **NOTE**: because we have imposed the boundary condition $T(1) = 0$ we must have that $T_2 \\equiv 0$, so we do not need to calculate $T_2$.\n",
    "\n",
    "We can now write out the weak form of the problem as\n",
    "\n",
    "$$\n",
    "  \\sum_A \\sum_B T_A w_B \\int_0^1 \\text{d}x \\, \\partial_x N_A(x) \\partial_x N_B(x) = \\sum_B w_B \\int_0^1 \\text{d}x \\, N_A(x) f(x).\n",
    "$$\n",
    "\n",
    "This has to be true for *any* choice of weight function, so for *any* coefficients $w_B$. This is true only if\n",
    "\n",
    "$$\n",
    "  \\sum_A T_A \\int_0^1 \\text{d}x \\, \\partial_x N_A(x) \\partial_x N_B(x) = \\int_0^1 \\text{d}x \\, N_A(x) f(x).\n",
    "$$\n",
    "\n",
    "This can be written as a matrix problem:\n",
    "\n",
    "$$\n",
    "  K {\\bf T} = {\\bf F}.\n",
    "$$\n",
    "\n",
    "The coefficients of the **stiffness matrix** $K$ are given by\n",
    "\n",
    "$$\n",
    "  K_{AB} = \\int_0^1 \\text{d}x \\, \\partial_x N_A(x) \\partial_x N_B(x).\n",
    "$$\n",
    "\n",
    "The coefficients of the **force vector** $F$ are given by\n",
    "\n",
    "$$\n",
    "  F_{A} = \\int_0^1 \\text{d}x \\, N_A(x) f(x).\n",
    "$$"
   ]
  },
  {
   "cell_type": "markdown",
   "metadata": {},
   "source": [
    "### Tasks"
   ]
  },
  {
   "cell_type": "markdown",
   "metadata": {},
   "source": [
    "1. Compute (analytically) the coefficients of the stiffness matrix given the shape functions above.\n",
    "2. Compute (analytically) the coefficients of the force vector when $f(x) = x$.\n",
    "3. Solve (numerically) for $T_A$ and plot the resulting solution for $T(x)$. Compare against the exact solution $T(x) = (1 - x^3) / 6)$."
   ]
  },
  {
   "cell_type": "code",
   "execution_count": null,
   "metadata": {
    "collapsed": true
   },
   "outputs": [],
   "source": []
  },
  {
   "cell_type": "markdown",
   "metadata": {},
   "source": [
    "## The element viewpoint"
   ]
  },
  {
   "cell_type": "markdown",
   "metadata": {},
   "source": [
    "This works surprisingly well, but it's clearly going to get very complex when the number of elements (or nodes) gets large as we try to improve accuracy. To work systematically with large numbers of elements, we need to consider one at a time.\n",
    "\n",
    "First, note that in any element there's only two shape functions that are not zero: those that correspond to the nodes at the edge of the element. We'll call these shape functions $N_1$ and $N_2$.\n",
    "\n",
    "Second, note that by doing a coordinate transformation, we can take *any* element from the interval $[ x_A, x_{A+1} ]$ to the interval $[ \\xi_1, \\xi_2 ]$ where we fix (by convention) $\\xi_1 = -1$ and $\\xi_2 = 1$. We have\n",
    "\n",
    "$$\n",
    "\\begin{align}\n",
    "  \\xi(x) &= \\frac{2 x - x_A - x_{A+1}}{x_{A+1} - x_{A}}, \\\\\n",
    "  x(\\xi) &= \\frac{(x_{A+1} - x_{A}) \\xi + x_A + x_{A+1}}{2}.\n",
    "\\end{align}\n",
    "$$\n",
    "\n",
    "We can now write the shape functions in terms of the *reference coordinates* $\\xi$ as\n",
    "\n",
    "$$\n",
    "  N_a(\\xi) = \\tfrac{1}{2} \\left( 1 + \\xi_a \\xi \\right), \\qquad a = 1, 2.\n",
    "$$\n",
    "\n",
    "As above we needed the derivatives of the shape function when computing coefficients, we note that\n",
    "\n",
    "$$\n",
    "  \\partial_{\\xi} N_a = \\frac{(-1)^a}{2}, \\qquad a = 1, 2.\n",
    "$$\n",
    "\n",
    "We will also need to change coefficients of vectors which will require a Jacobian, which needs derivatives of the coordinate transformation. This needs\n",
    "\n",
    "$$\n",
    "\\begin{align}\n",
    "  \\partial_x \\xi &= \\frac{2}{x_{A+1} - x_{A}}, \\\\\n",
    "  \\partial_{\\xi} x &= \\frac{(x_{A+1} - x_{A})}{2}.\n",
    "\\end{align}\n",
    "$$\n"
   ]
  },
  {
   "cell_type": "markdown",
   "metadata": {},
   "source": [
    "With this information we can compute the stiffness matrix $k^e_{ab}$ for the single element $e$. This gives\n",
    "\n",
    "$$\n",
    "\\begin{align}\n",
    "  k^e_{ab} &= \\int_{x_A}^{x_{A+1}} \\text{d}x \\, \\partial_x N_a \\partial_x N_b \\\\\n",
    "  &= \\int_{-1}^{+1} \\text{d}\\xi \\, \\partial_{\\xi} x \\, \\partial_{x} N_a \\partial_{x} N_b \\\\\n",
    "  &= \\int_{-1}^{+1} \\text{d}\\xi \\, \\left(\\partial_{\\xi} x\\right)^{-1} \\, \\partial_{\\xi} N_a \\partial_{\\xi} N_b \\\\\n",
    "  &= \\frac{(-1)^{a+b}}{x_{A+1} - x_A}.\n",
    "\\end{align}\n",
    "$$\n",
    "\n",
    "This is incredibly useful: there's no need to do any integrals at all."
   ]
  },
  {
   "cell_type": "markdown",
   "metadata": {},
   "source": [
    "The element force vector is given by\n",
    "\n",
    "$$\n",
    "\\begin{align}\n",
    "  f^e_{a} &= \\int_{x_A}^{x_{A+1}} \\text{d}x \\, N_a f(x) + \\text{boundary terms}\n",
    "  & = \\int_{x_A}^{x_{A+1}} \\text{d}x \\, N_a f(x).\n",
    "\\end{align}\n",
    "$$\n",
    "\n",
    "This is specific to our choice of boundary conditions: normally there would be extra terms.\n",
    "\n",
    "To evaluate this it's convenient to write $f(x) = \\sum_a f_a N_a$ within the element, where $f_a = f(x(\\xi_a))$. With the simple shape functions we have here, we get\n",
    "\n",
    "$$\n",
    "\\begin{equation}\n",
    "  f^e_{a} = \\frac{x_{A+1} - x_{A}}{6} \\begin{pmatrix} 2 f_1 + f_2 \\\\ f_1 + 2 f_2 \\end{pmatrix}.\n",
    "\\end{equation}\n",
    "$$"
   ]
  },
  {
   "cell_type": "markdown",
   "metadata": {},
   "source": [
    "### Linking elements to equations"
   ]
  },
  {
   "cell_type": "markdown",
   "metadata": {},
   "source": [
    "In the end we want to construct a linear (matrix) equation to give us the solution $T_A$ at all nodes $A$ where it isn't enforced by the boundary conditions (which in the problem above is all nodes except the right-hand boundary). We note that each *interior* node is linked to two elements, so contributions from the element matrix may affect more than one equation. To keep track of this, we construct the **location matrix** or **location array** $LM$ which, given the node number $a = 1, 2$ and the element number $e$ returns the associated equation number.\n",
    "\n",
    "In our case we have\n",
    "\n",
    "$$\n",
    "  A = LM(a, e) = \\begin{cases} e & a = 1 \\\\ e+1 & a = 2 \\end{cases}\n",
    "$$\n",
    "\n",
    "for $e = 0, 1, \\dots, N_{\\text{elements}}-1$. For the final element we have to change things, as the final node is not to be included. Here we'll set the equation number $A$ to be $-1$."
   ]
  },
  {
   "cell_type": "code",
   "execution_count": 8,
   "metadata": {
    "collapsed": true
   },
   "outputs": [],
   "source": [
    "Nelements = 4\n",
    "\n",
    "LM = numpy.zeros((2, Nelements))\n",
    "for e in range(Nelements):\n",
    "    LM[0, e] = e\n",
    "    LM[1, e] = e+1\n",
    "LM[1, -1] = -1 # Right hand node of final element is not considered thanks to BC."
   ]
  },
  {
   "cell_type": "markdown",
   "metadata": {},
   "source": [
    "Now the global stiffness matrix and force vector can be assembled: for each element $e$ we construct $k^e_{ab}$ and add:\n",
    "\n",
    "$$\n",
    "\\begin{align}\n",
    "  K_{LM(a, e) \\, LM(b, e)} &= K_{LM(a, e) \\, LM(b, e)} + k^e_{ab}, & a, b &= 1, 2, \\\\\n",
    "  f_{LM(a, e)} &= f_{LM(a, e)} + f^e_a, & a &= 1, 2.\n",
    "\\end{align}\n",
    "$$"
   ]
  },
  {
   "cell_type": "markdown",
   "metadata": {},
   "source": [
    "### Algorithm"
   ]
  },
  {
   "cell_type": "markdown",
   "metadata": {},
   "source": [
    "This gives our full algorithm:\n",
    "\n",
    "1. Set number of elements $N_{\\text{elements}}$.\n",
    "2. Set node locations $x_A, A = 0, \\dots, N_{\\text{elements}}$.\n",
    "3. Set up the location matrix $LM$.\n",
    "4. Set up arrays of zeros for the global stiffness matrix (size $N_{\\text{elements}} \\times N_{\\text{elements}}$) and force vector (size $N_{\\text{elements}}$).\n",
    "5. For each element:\n",
    "\n",
    "    1. Form the element stiffness matrix $k^e_{ab}$.\n",
    "    2. Form the element force vector $f^e_a$.\n",
    "    3. Add the contributions to the global stiffness matrix and force vector\n",
    "    \n",
    "6. Solve $K {\\bf T} = {\\bf F}$."
   ]
  },
  {
   "cell_type": "markdown",
   "metadata": {},
   "source": [
    "### Task"
   ]
  },
  {
   "cell_type": "markdown",
   "metadata": {},
   "source": [
    "1. Write a finite element solver that takes the number of elements and the function $f(x)$, forms a uniformly spaced grid, and solves for $T$.\n",
    "2. Check that it returns the same result as above when applied to two elements with $f(x) = x$.\n",
    "3. Apply it to the case with $f(x) = x^2$ with the same boundary conditions: the exact solution is $(1 - x^4) / 12$. Compute the error in the 2-norm and show how it converges."
   ]
  },
  {
   "cell_type": "code",
   "execution_count": 9,
   "metadata": {
    "collapsed": true
   },
   "outputs": [],
   "source": []
  }
 ],
 "metadata": {
  "kernelspec": {
   "display_name": "Python 3",
   "language": "python",
   "name": "python3"
  },
  "language_info": {
   "codemirror_mode": {
    "name": "ipython",
    "version": 3
   },
   "file_extension": ".py",
   "mimetype": "text/x-python",
   "name": "python",
   "nbconvert_exporter": "python",
   "pygments_lexer": "ipython3",
   "version": "3.6.9"
  }
 },
 "nbformat": 4,
 "nbformat_minor": 1
}
