{
 "cells": [
  {
   "cell_type": "markdown",
   "metadata": {},
   "source": [
    "# Finite Elements Lab 2 Worksheet"
   ]
  },
  {
   "cell_type": "code",
   "execution_count": 1,
   "metadata": {},
   "outputs": [
    {
     "data": {
      "text/html": [
       "<link href='http://fonts.googleapis.com/css?family=Open+Sans:100,300,400,500,700,800,900,100italic,300italic,400italic,500italic,700italic,800italic,900italic' rel='stylesheet' type='text/css'>\n",
       "<link href='http://fonts.googleapis.com/css?family=Arvo:400,700,400italic' rel='stylesheet' type='text/css'>\n",
       "<link href='http://fonts.googleapis.com/css?family=PT+Mono' rel='stylesheet' type='text/css'>\n",
       "<link href='http://fonts.googleapis.com/css?family=Shadows+Into+Light' rel='stylesheet' type='text/css'>\n",
       "<link href='http://fonts.googleapis.com/css?family=Nixie+One' rel='stylesheet' type='text/css'>\n",
       "<style>\n",
       "\n",
       "@font-face {\n",
       "    font-family: \"Computer Modern\";\n",
       "    src: url('http://mirrors.ctan.org/fonts/cm-unicode/fonts/otf/cmunss.otf');\n",
       "}\n",
       "\n",
       "#notebook_panel { /* main background */\n",
       "    background: rgb(245,245,245);\n",
       "}\n",
       "\n",
       "div.cell { /* set cell width */\n",
       "    width: 1000px;\n",
       "}\n",
       "\n",
       "div #notebook { /* centre the content */\n",
       "    background: #fff; /* white background for content */\n",
       "    width: 1200px;\n",
       "    margin: auto;\n",
       "    padding-left: 0em;\n",
       "}\n",
       "\n",
       "#notebook li { /* More space between bullet points */\n",
       "margin-top:0.8em;\n",
       "}\n",
       "\n",
       "/* draw border around running cells */\n",
       "div.cell.border-box-sizing.code_cell.running { \n",
       "    border: 1px solid #111;\n",
       "}\n",
       "\n",
       "/* Put a solid color box around each cell and its output, visually linking them*/\n",
       "div.cell.code_cell {\n",
       "    background-color: rgb(256,256,256); \n",
       "    border-radius: 0px; \n",
       "    padding: 0.5em;\n",
       "    margin-left:1em;\n",
       "    margin-top: 1em;\n",
       "}\n",
       "\n",
       "div.text_cell_render{\n",
       "    font-family: 'Open Sans' sans-serif;\n",
       "    line-height: 140%;\n",
       "    font-size: 125%;\n",
       "    font-weight: 400;\n",
       "    width:900px;\n",
       "    margin-left:auto;\n",
       "    margin-right:auto;\n",
       "}\n",
       "\n",
       "\n",
       "/* Formatting for header cells */\n",
       ".text_cell_render h1 {\n",
       "    font-family: 'Arvo', serif;\n",
       "    font-style:regular;\n",
       "    font-weight: 400;    \n",
       "    font-size: 45pt;\n",
       "    line-height: 100%;\n",
       "    color: rgb(0,51,102);\n",
       "    margin-bottom: 0.5em;\n",
       "    margin-top: 0.5em;\n",
       "    display: block;\n",
       "}\t\n",
       ".text_cell_render h2 {\n",
       "    font-family: 'Arvo', serif;\n",
       "    font-weight: 400;\n",
       "    font-size: 30pt;\n",
       "    line-height: 100%;\n",
       "    color: rgb(0,51,102);\n",
       "    margin-bottom: 0.1em;\n",
       "    margin-top: 0.3em;\n",
       "    display: block;\n",
       "}\t\n",
       "\n",
       ".text_cell_render h3 {\n",
       "    font-family: 'Arvo', serif;\n",
       "    margin-top:16px;\n",
       "\tfont-size: 22pt;\n",
       "    font-weight: 600;\n",
       "    margin-bottom: 3px;\n",
       "    font-style: regular;\n",
       "    color: rgb(102,102,0);\n",
       "}\n",
       "\n",
       ".text_cell_render h4 {    /*Use this for captions*/\n",
       "    font-family: 'Arvo', serif;\n",
       "    font-size: 14pt;\n",
       "    text-align: center;\n",
       "    margin-top: 0em;\n",
       "    margin-bottom: 2em;\n",
       "    font-style: regular;\n",
       "}\n",
       "\n",
       ".text_cell_render h5 {  /*Use this for small titles*/\n",
       "    font-family: 'Arvo', sans-serif;\n",
       "    font-weight: 400;\n",
       "    font-size: 16pt;\n",
       "    color: rgb(163,0,0);\n",
       "    font-style: italic;\n",
       "    margin-bottom: .1em;\n",
       "    margin-top: 0.8em;\n",
       "    display: block;\n",
       "}\n",
       "\n",
       ".text_cell_render h6 { /*use this for copyright note*/\n",
       "    font-family: 'PT Mono', sans-serif;\n",
       "    font-weight: 300;\n",
       "    font-size: 9pt;\n",
       "    line-height: 100%;\n",
       "    color: grey;\n",
       "    margin-bottom: 1px;\n",
       "    margin-top: 1px;\n",
       "}\n",
       "\n",
       ".CodeMirror{\n",
       "        font-family: \"PT Mono\";\n",
       "        font-size: 90%;\n",
       "}\n",
       "\n",
       "</style>\n",
       "<script>\n",
       "    MathJax.Hub.Config({\n",
       "                        TeX: {\n",
       "                           extensions: [\"AMSmath.js\"],\n",
       "                           equationNumbers: { autoNumber: \"AMS\", useLabelIds: true}\n",
       "                           },\n",
       "                tex2jax: {\n",
       "                    inlineMath: [ ['$','$'], [\"\\\\(\",\"\\\\)\"] ],\n",
       "                    displayMath: [ ['$$','$$'], [\"\\\\[\",\"\\\\]\"] ]\n",
       "                },\n",
       "                displayAlign: 'center', // Change this to 'center' to center equations.\n",
       "                \"HTML-CSS\": {\n",
       "                    styles: {'.MathJax_Display': {\"margin\": 4}}\n",
       "                }\n",
       "        });\n",
       "</script>\n"
      ],
      "text/plain": [
       "<IPython.core.display.HTML object>"
      ]
     },
     "execution_count": 1,
     "metadata": {},
     "output_type": "execute_result"
    }
   ],
   "source": [
    "from IPython.core.display import HTML\n",
    "css_file = 'https://raw.githubusercontent.com/ngcm/training-public/master/ipython_notebook_styles/ngcmstyle.css'\n",
    "HTML(url=css_file)"
   ]
  },
  {
   "cell_type": "markdown",
   "metadata": {},
   "source": [
    "## 2d problem"
   ]
  },
  {
   "cell_type": "markdown",
   "metadata": {},
   "source": [
    "We've looked at the problem of finding the static temperature distribution in a bar. Now let's move on to finding the temperature distribution of a plate of length $1$ on each side. The temperature $T(x, y) = T(x_1, x_2)$ satisfies\n",
    "\n",
    "$$\n",
    "  \\nabla^2 T + f({\\bf x}) = \\left( \\partial_{xx} + \\partial_{yy} \\right) T + f({\\bf x}) = 0.\n",
    "$$\n",
    "\n",
    "We'll fix the temperature to be zero at the right edge, $T(1, y) = 0$. We'll allow heat to flow out of the other edges, giving the boundary conditions on all edges as\n",
    "\n",
    "$$\n",
    "\\begin{align}\n",
    "  \\partial_x T(0, y) &= 0, & T(1, y) &=0, \\\\\n",
    "  \\partial_y T(x, 0) &= 0, & \\partial_y T(x, 1) &=0.\n",
    "\\end{align}\n",
    "$$"
   ]
  },
  {
   "cell_type": "markdown",
   "metadata": {},
   "source": [
    "Once again we want to write down the weak form by integrating by parts. To do that we rely on the divergence theorem,\n",
    "\n",
    "$$\n",
    "  \\int_{\\Omega} \\text{d}\\Omega \\, \\nabla_i \\phi = \\int_{\\Gamma} \\text{d}\\Gamma \\, \\phi n_i.\n",
    "$$\n",
    "\n",
    "Here $\\Omega$ is the domain (which in our problem is the plate, $x, y \\in [0, 1]$) and $\\Gamma$ its boundary (in our problem the four lines $x=0, 1$ and $y=0, 1$), whilst ${\\bf n}$ is the (inward-pointing) normal vector to the boundary.\n",
    "\n",
    "We then multiply the strong form of the static heat equation by a *weight function* $w(x, y)$ and integrate by parts, using the divergence theorem, to remove the second derivative. To enforce the boundary conditions effectively we again choose the weight function to vanish where the value of the temperature is explicitly given, i.e. $w(1, y) = 0$. That is, we split the boundary $\\Gamma$ into a piece $\\Gamma_D$ where the boundary conditions are in Dirichlet form (the value $T$ is given) and a piece $\\Gamma_N$ where the boundary conditions are in Neumann form (the value of the normal derivative $n_i \\nabla_i T$ is given). We then enforce that on $\\Gamma_D$ the weight function vanishes.\n",
    "\n",
    "For our problem, this gives\n",
    "\n",
    "$$\n",
    "  \\int_{\\Omega} \\text{d} \\Omega \\, \\nabla_i w \\nabla_i T = \\int_{\\Omega} \\text{d} \\Omega \\, w f.\n",
    "$$\n",
    "\n",
    "Re-writing for our explicit domain and our Cartesian coordinates we get\n",
    "\n",
    "$$\n",
    "  \\int_0^1 \\text{d} y \\, \\int_0^1 \\text{d} x \\, \\left( \\partial_x w \\partial_x T + \\partial_y w \\partial_y T \\right) = \\int_0^1 \\text{d} y \\, \\int_0^1 \\text{d} x \\,  w(x, y) f(x, y).\n",
    "$$\n",
    "\n",
    "This should be compared to the one dimensional case\n",
    "\n",
    "$$\n",
    "  \\int_0^1 \\text{d}x \\, \\partial_x w(x) \\partial_x T(x) = \\int_0^1 \\text{d}x \\, w(x) f(x).\n",
    "$$"
   ]
  },
  {
   "cell_type": "markdown",
   "metadata": {},
   "source": [
    "We can now envisage using the same steps as the one dimensional case. Split the domain into elements, represent all functions in terms of known *shape functions* on each element, assemble the problems in each element to a single matrix problem, and then solve the matrix problem."
   ]
  },
  {
   "cell_type": "markdown",
   "metadata": {},
   "source": [
    "### Elements"
   ]
  },
  {
   "cell_type": "markdown",
   "metadata": {},
   "source": [
    "Here we will use triangular elements. As a simple example we'll split the plate into two triangles."
   ]
  },
  {
   "cell_type": "code",
   "execution_count": 2,
   "metadata": {
    "collapsed": true
   },
   "outputs": [],
   "source": [
    "%matplotlib inline\n",
    "import numpy\n",
    "from matplotlib import pyplot\n",
    "from matplotlib import rcParams\n",
    "rcParams['font.family'] = 'serif'\n",
    "rcParams['font.size'] = 16\n",
    "rcParams['figure.figsize'] = (12,6)"
   ]
  },
  {
   "cell_type": "code",
   "execution_count": 3,
   "metadata": {
    "collapsed": true
   },
   "outputs": [],
   "source": [
    "nodes = numpy.array([[0.0, 0.0], [1.0, 0.0], [0.0, 1.0], [1.0, 1.0]])\n",
    "IEN = numpy.array([[0, 1, 2], \n",
    "                   [1, 3, 2]])"
   ]
  },
  {
   "cell_type": "code",
   "execution_count": 4,
   "metadata": {},
   "outputs": [
    {
     "data": {
      "image/png": "[encoded data removed]",
      "text/plain": [
       "<matplotlib.figure.Figure at 0x10dff3b00>"
      ]
     },
     "metadata": {},
     "output_type": "display_data"
    }
   ],
   "source": [
    "pyplot.figure()\n",
    "pyplot.axis('equal')\n",
    "pyplot.triplot(nodes[:,0], nodes[:,1], triangles=IEN, lw=2)\n",
    "pyplot.plot(nodes[:,0], nodes[:,1], 'ro')\n",
    "for e in range(nodes.shape[1]):\n",
    "    barycentre = numpy.mean(nodes[IEN[e,:],:], axis=0)\n",
    "    pyplot.text(barycentre[0], barycentre[1], \"{}\".format(e),\n",
    "                bbox=dict(facecolor='red', alpha=0.5))\n",
    "    for n in range(3):\n",
    "        pyplot.text(nodes[IEN[e,n],0]-0.07*(-1)**e,nodes[IEN[e,n],1]+0.07, r\"${}_{{{}}}$\".format(n,e),\n",
    "                    bbox=dict(facecolor='blue', alpha=0.25 + 0.5*e))\n",
    "for n in range(nodes.shape[0]):\n",
    "    pyplot.text(nodes[n,0]-0.07, nodes[n,1]-0.07, \"{}\".format(n),\n",
    "                bbox=dict(facecolor='green', alpha=0.3))\n",
    "pyplot.xlim(-0.2, 1.2)\n",
    "pyplot.ylim(-0.2, 1.2)\n",
    "pyplot.xlabel(r\"$x$\")\n",
    "pyplot.ylabel(r\"$y$\");"
   ]
  },
  {
   "cell_type": "markdown",
   "metadata": {},
   "source": [
    "What we're doing here is\n",
    "\n",
    "1. Providing a list of nodes by their global coordinates.\n",
    "2. Providing the *element node array* `IEN` which says how the elements are linked to the nodes.\n",
    "\n",
    "We have that for element $e$ and *local* node number $a = 0, 1, 2$ the global node number is $A = IEN(e, a)$. This notation is sufficiently conventional that `matplotlib` recognizes it with its `triplot`/`tripcolor`/`trisurf` functions.\n",
    "\n",
    "It is convention that the nodes are ordered in the anti-clockwise direction as the local number goes from $0$ to $2$.\n",
    "\n",
    "The plot shows the\n",
    "\n",
    "* element numbers in the red boxes\n",
    "* the *global* node numbers in the green boxes\n",
    "* the *local* element numbers in the blue boxes (the subscript shows the element number)."
   ]
  },
  {
   "cell_type": "markdown",
   "metadata": {},
   "source": [
    "We will need one final array, which is the $ID$ or *destination* array. This links the *global* node number to the *global* equation number in the final linear system. As the order of the equations in a linear system doesn't matter, this essentially encodes whether a node should have any equation in the linear system. Any node on $\\Gamma_D$, where the value of the temperature is given, should not have an equation. In the example above the right edge is fixed, so nodes $1$ and $3$ lie on $\\Gamma_D$ and should not have an equation. Thus in our case we have"
   ]
  },
  {
   "cell_type": "code",
   "execution_count": 5,
   "metadata": {
    "collapsed": true
   },
   "outputs": [],
   "source": [
    "ID = numpy.array([0,-1,1,-1])"
   ]
  },
  {
   "cell_type": "markdown",
   "metadata": {},
   "source": [
    "In the one dimensional case we used the *location matrix* or $LM$ array to link local node numbers in elements to equations. With the $IED$ and $ID$ arrays the $LM$ matrix is strictly redundant, as $LM(a, e) = ID(IEN(e, a))$. However, it's still standard to construct it:"
   ]
  },
  {
   "cell_type": "code",
   "execution_count": 6,
   "metadata": {},
   "outputs": [
    {
     "data": {
      "text/plain": [
       "array([[ 0, -1],\n",
       "       [-1, -1],\n",
       "       [ 1,  1]])"
      ]
     },
     "execution_count": 6,
     "metadata": {},
     "output_type": "execute_result"
    }
   ],
   "source": [
    "LM = numpy.zeros_like(IEN.T)\n",
    "for e in range(IEN.shape[0]):\n",
    "    for a in range(IEN.shape[1]):\n",
    "        LM[a,e] = ID[IEN[e,a]]\n",
    "LM"
   ]
  },
  {
   "cell_type": "markdown",
   "metadata": {},
   "source": [
    "### Function representation and shape functions"
   ]
  },
  {
   "cell_type": "markdown",
   "metadata": {},
   "source": [
    "We're going to want to write our unknown functions $T, w$ in terms of shape functions. These are easiest to write down for a single reference element, in the same way as we did for the one dimensional case where our reference element used the coordinates $\\xi$. In two dimensions we'll use the reference coordinates $\\xi_0, \\xi_1$, and the standard \"unit\" triangle:"
   ]
  },
  {
   "cell_type": "code",
   "execution_count": 7,
   "metadata": {},
   "outputs": [
    {
     "data": {
      "image/png": "[encoded data removed]",
      "text/plain": [
       "<matplotlib.figure.Figure at 0x110dbe9e8>"
      ]
     },
     "metadata": {},
     "output_type": "display_data"
    }
   ],
   "source": [
    "corners = numpy.array([[0.0, 0.0], [1.0, 0.0], [0.0, 1.0], [0.0, 0.0]])\n",
    "pyplot.plot(corners[:,0],corners[:,1],linewidth=2)\n",
    "pyplot.xlabel(r\"$\\xi_0$\")\n",
    "pyplot.ylabel(r\"$\\xi_1$\")\n",
    "pyplot.axis('equal')\n",
    "pyplot.ylim(-0.1,1.1);"
   ]
  },
  {
   "cell_type": "markdown",
   "metadata": {},
   "source": [
    "The shape functions on this triangle are\n",
    "\n",
    "\\begin{align}\n",
    "  N_0(\\xi_0, \\xi_1) &= 1 - \\xi_0 - \\xi_1, \\\\\n",
    "  N_1(\\xi_0, \\xi_1) &= \\xi_0, \\\\\n",
    "  N_2(\\xi_0, \\xi_1) &= \\xi_1.\n",
    "\\end{align}\n",
    "\n",
    "The derivatives are all either $0$ or $\\pm 1$."
   ]
  },
  {
   "cell_type": "markdown",
   "metadata": {},
   "source": [
    "As soon as we have the shape functions, our weak form becomes\n",
    "\n",
    "$$\n",
    "  \\sum_A T_A \\int_{\\Omega} \\text{d}\\Omega \\, \\left( \\partial_{x} N_A (x, y) \\partial_{x} N_B(x, y) + \\partial_{y} N_A(x, y) \\partial_{y} N_B(x, y) \\right) = \\int_{\\Omega} \\text{d}\\Omega \\, N_B(x, y) f(x, y).\n",
    "$$\n",
    "\n",
    "If we restrict to a single element the weak form becomes\n",
    "\n",
    "$$\n",
    "  \\sum_A T_A \\int_{\\triangle} \\text{d}\\triangle \\, \\left( \\partial_{x} N_A (x, y) \\partial_{x} N_B(x, y) + \\partial_{y} N_A(x, y) \\partial_{y} N_B(x, y) \\right) = \\int_{\\triangle} \\text{d}\\triangle \\, N_B(x, y) f(x, y).\n",
    "$$"
   ]
  },
  {
   "cell_type": "markdown",
   "metadata": {},
   "source": [
    "We need to map the triangle and its $(x, y) = {\\bf x}$ coordinates to the reference triangle and its $(\\xi_0, \\xi_1) = {\\bf \\xi}$ coordinates. We also need to work out the integrals that appear in the weak form. We need the transformation formula\n",
    "\n",
    "$$\n",
    "  \\int_{\\triangle} \\text{d}\\triangle \\, \\phi(x, y) = \\int_0^1 \\text{d}\\xi_1 \\, \\int_0^{1-\\xi_1} \\text{d}\\xi_0 \\, \\phi \\left( x(\\xi_0, \\xi_1), y(\\xi_0, \\xi_1) \\right) j(\\xi_0, \\xi_1),\n",
    "$$\n",
    "\n",
    "where the *Jacobian matrix* $J$ is\n",
    "\n",
    "$$\n",
    "  J = \\left[ \\frac{\\partial {\\bf x}}{\\partial {\\bf \\xi}} \\right] = \\begin{pmatrix} \\partial_{\\xi_0} x & \\partial_{\\xi_1} x \\\\ \\partial_{\\xi_0} y & \\partial_{\\xi_1} y \\end{pmatrix}\n",
    "$$\n",
    "\n",
    "and hence the *Jacobian determinant* $j$ is\n",
    "\n",
    "$$\n",
    "  j = \\det{J} = \\det \\left[ \\frac{\\partial {\\bf x}}{\\partial {\\bf \\xi}} \\right] = \\det \\begin{pmatrix} \\partial_{\\xi_0} x & \\partial_{\\xi_1} x \\\\ \\partial_{\\xi_0} y & \\partial_{\\xi_1} y \\end{pmatrix}.\n",
    "$$\n",
    "\n",
    "We will also need the Jacobian matrix when writing the derivatives of the shape functions in terms of the coordinates on the reference triangle, i.e.\n",
    "\n",
    "$$\n",
    "  \\begin{pmatrix} \\partial_x N_A & \\partial_y N_A \\end{pmatrix} = \\begin{pmatrix} \\partial_{\\xi_0} N_A & \\partial_{\\xi_1} N_A \\end{pmatrix} J^{-1} .\n",
    "$$\n",
    "\n",
    "The integral over the reference triangle can be directly approximated using, for example, Gauss quadrature. To second order we have\n",
    "\n",
    "$$\n",
    "  \\int_0^1 \\text{d}\\xi_1 \\, \\int_0^{1-\\xi_1} \\text{d}\\xi_0 \\, \\psi \\left( x(\\xi_0, \\xi_1), y(\\xi_0, \\xi_1) \\right) \\simeq \\frac{1}{6} \\sum_{j = 1}^{3} \\psi \\left( x((\\xi_0)_j, (\\xi_1)_j), y((\\xi_0)_j, (\\xi_1)_j) \\right)\n",
    "$$\n",
    "\n",
    "where\n",
    "\n",
    "$$\n",
    "\\begin{align}\n",
    "  (\\xi_0)_1 &= \\frac{1}{6}, & (\\xi_1)_1 &= \\frac{1}{6}, \\\\\n",
    "  (\\xi_0)_2 &= \\frac{4}{6}, & (\\xi_1)_2 &= \\frac{1}{6}, \\\\\n",
    "  (\\xi_0)_3 &= \\frac{1}{6}, & (\\xi_1)_3 &= \\frac{4}{6}.\n",
    "\\end{align}\n",
    "$$\n",
    "\n",
    "Finally, we need to map from the coordinates ${\\bf \\xi}$ to the coordinates ${\\bf x}$. This is straightforward if we think of writing each component $(x, y)$ in terms of the shape functions. So for element $e$ with node locations $(x^e_a, y^e_a)$ for local node number $a = 0, 1, 2$ we have\n",
    "\n",
    "$$\n",
    "\\begin{align}\n",
    "  x &= x^e_0 N_0(\\xi_0, \\xi_1) + x^e_1 N_1(\\xi_0, \\xi_1) + x^e_2 N_2(\\xi_0, \\xi_1), \\\\\n",
    "  y &= y^e_0 N_0(\\xi_0, \\xi_1) + y^e_1 N_1(\\xi_0, \\xi_1) + y^e_2 N_2(\\xi_0, \\xi_1).\n",
    "\\end{align}\n",
    "$$"
   ]
  },
  {
   "cell_type": "markdown",
   "metadata": {},
   "source": [
    "### Tasks"
   ]
  },
  {
   "cell_type": "markdown",
   "metadata": {},
   "source": [
    "1. Write a function that, given ${\\bf \\xi}$, returns that shape functions at that location.\n",
    "2. Write a function that, given ${\\bf \\xi}$, returns the derivatives of the shape functions at that location.\n",
    "3. Write a function that, given the (global) locations ${\\bf x}$ of the nodes of a triangular element and the local coordinates ${\\bf \\xi}$ within the element returns the corresponding global coordinates.\n",
    "5. Write a function that, given the (global) locations ${\\bf x}$ of the nodes of a triangular element and the local coordinates ${\\bf \\xi}$, returns the Jacobian matrix at that location.\n",
    "6. Write a function that, given the (global) locations ${\\bf x}$ of the nodes of a triangular element and the local coordinates ${\\bf \\xi}$, returns the determinant of the Jacobian matrix at that location.\n",
    "4. Write a function that, given the (global) locations ${\\bf x}$ of the nodes of a triangular element and the local coordinates ${\\bf \\xi}$ within the element returns the derivatives $\\partial_{\\bf x} N_a = J^{-1} \\partial_{\\bf \\xi} N_a$.\n",
    "7. Write a function that, given a function $\\psi({\\bf \\xi})$, returns the quadrature of $\\psi$ over the reference triangle.\n",
    "8. Write a function that, given the (global) locations of the nodes of a triangular element and a function $\\phi(x, y)$, returns the quadrature of $\\phi$ over the element.\n",
    "9. Test all of the above by integrating simple functions (eg $1, \\xi, \\eta, x, y$) over the elements above."
   ]
  },
  {
   "cell_type": "code",
   "execution_count": null,
   "metadata": {
    "collapsed": true
   },
   "outputs": [],
   "source": []
  },
  {
   "cell_type": "markdown",
   "metadata": {},
   "source": [
    "### More tasks"
   ]
  },
  {
   "cell_type": "markdown",
   "metadata": {},
   "source": [
    "1. Write a function to compute the coefficients of the stiffness matrix for a single element,\n",
    "$$\n",
    "  k^e_{ab} = \\int_{\\triangle^e}  \\text{d}\\triangle^e \\, \\left( \\partial_{x} N_a (x, y) \\partial_{x} N_b(x, y) + \\partial_{y} N_a(x, y) \\partial_{y} N_b(x, y) \\right).\n",
    "$$\n",
    "2. Write a function to compute the coefficients of the force vector for a single element,\n",
    "$$\n",
    "  f^e_b = \\int_{\\triangle^e} \\text{d}\\triangle^e \\, N_b(x, y) f(x, y).\n",
    "$$"
   ]
  },
  {
   "cell_type": "code",
   "execution_count": null,
   "metadata": {
    "collapsed": true
   },
   "outputs": [],
   "source": []
  },
  {
   "cell_type": "markdown",
   "metadata": {},
   "source": [
    "### Algorithm"
   ]
  },
  {
   "cell_type": "markdown",
   "metadata": {},
   "source": [
    "This gives our full algorithm:\n",
    "\n",
    "1. Set number of elements $N_{\\text{elements}}$.\n",
    "2. Set node locations ${\\bf x}_A, A = 0, \\dots, N_{\\text{nodes}}$. Note that there is no longer a direct connection between the number of nodes and elements.\n",
    "3. Set up the $IEN$ and $ID$ arrays linking elements to nodes and elements to equation numbers. From these set the location matrix $LM$. Work out the required number of equations $N_{\\text{equations}}$ (the maximum of the $ID$ array plus $1$).\n",
    "4. Set up arrays of zeros for the global stiffness matrix (size $N_{\\text{equations}} \\times N_{\\text{equations}}$) and force vector (size $N_{\\text{equations}}$).\n",
    "5. For each element:\n",
    "\n",
    "    1. Form the element stiffness matrix $k^e_{ab}$.\n",
    "    2. Form the element force vector $f^e_a$.\n",
    "    3. Add the contributions to the global stiffness matrix and force vector\n",
    "    \n",
    "6. Solve $K {\\bf T} = {\\bf F}$."
   ]
  },
  {
   "cell_type": "markdown",
   "metadata": {},
   "source": [
    "### Algorithm tasks"
   ]
  },
  {
   "cell_type": "markdown",
   "metadata": {},
   "source": [
    "1. Write a function that given a list of nodes and the $IEN$ and $ID$ arrays and returns the solution ${\\bf T}$.\n",
    "2. Test on the system $f(x, y) = 1$ with exact solution $T = (1-x^2)/2$.\n",
    "3. For a more complex case with the same boundary conditions try\n",
    "$$\n",
    "  f(x, y) = x^2 (x - 1) \\left( y^2 + 4 y (y - 1) + (y - 1)^2 \\right) + (3 x - 1) y^2 (y - 1)^2\n",
    "$$\n",
    "with exact solution\n",
    "$$\n",
    "  T(x, y) = \\tfrac{1}{2} x^2 (1 - x) y^2 (1 - y)^2.\n",
    "$$"
   ]
  },
  {
   "cell_type": "markdown",
   "metadata": {},
   "source": [
    "A useful function is a grid generator or mesher. Good meshers are generally hard: here is a very simple one for this specific problem."
   ]
  },
  {
   "cell_type": "code",
   "execution_count": 8,
   "metadata": {
    "collapsed": true
   },
   "outputs": [],
   "source": [
    "def generate_2d_grid(Nx):\n",
    "    \"\"\"\n",
    "    Generate a triangular grid covering the plate math:`[0,1]^2` with Nx (pairs of) triangles in each dimension.\n",
    "    \n",
    "    Parameters\n",
    "    ----------\n",
    "    \n",
    "    Nx : int\n",
    "        Number of triangles in any one dimension (so the total number on the plate is math:`2 Nx^2`)\n",
    "        \n",
    "    Returns\n",
    "    -------\n",
    "    \n",
    "    nodes : array of float\n",
    "        Array of (x,y) coordinates of nodes\n",
    "    IEN : array of int\n",
    "        Array linking elements to nodes\n",
    "    ID : array of int\n",
    "        Array linking nodes to equations\n",
    "    \"\"\"\n",
    "    Nnodes = Nx+1\n",
    "    x = numpy.linspace(0, 1, Nnodes)\n",
    "    y = numpy.linspace(0, 1, Nnodes)\n",
    "    X, Y = numpy.meshgrid(x,y)\n",
    "    nodes = numpy.zeros((Nnodes**2,2))\n",
    "    nodes[:,0] = X.ravel()\n",
    "    nodes[:,1] = Y.ravel()\n",
    "    ID = numpy.zeros(len(nodes), dtype=numpy.int)\n",
    "    n_eq = 0\n",
    "    for nID in range(len(nodes)):\n",
    "        if nID % Nnodes == Nx:\n",
    "            ID[nID] = -1\n",
    "        else:\n",
    "            ID[nID] = n_eq\n",
    "            n_eq += 1\n",
    "    IEN = numpy.zeros((2*Nx**2,3), dtype=numpy.int)\n",
    "    for i in range(Nx):\n",
    "        for j in range(Nx):\n",
    "            IEN[2*i+2*j*Nx  , :] = i+j*Nnodes, i+1+j*Nnodes, i+(j+1)*Nnodes\n",
    "            IEN[2*i+1+2*j*Nx, :] = i+1+j*Nnodes, i+1+(j+1)*Nnodes, i+(j+1)*Nnodes\n",
    "    return nodes, IEN, ID"
   ]
  },
  {
   "cell_type": "code",
   "execution_count": null,
   "metadata": {
    "collapsed": true
   },
   "outputs": [],
   "source": []
  }
 ],
 "metadata": {
  "kernelspec": {
   "display_name": "Python 3",
   "language": "python",
   "name": "python3"
  },
  "language_info": {
   "codemirror_mode": {
    "name": "ipython",
    "version": 3
   },
   "file_extension": ".py",
   "mimetype": "text/x-python",
   "name": "python",
   "nbconvert_exporter": "python",
   "pygments_lexer": "ipython3",
   "version": "3.6.9"
  }
 },
 "nbformat": 4,
 "nbformat_minor": 1
}
