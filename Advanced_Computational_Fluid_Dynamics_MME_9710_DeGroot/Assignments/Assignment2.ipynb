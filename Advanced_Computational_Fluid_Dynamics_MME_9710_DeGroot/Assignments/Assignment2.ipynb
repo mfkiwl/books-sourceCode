{
 "cells": [
  {
   "cell_type": "markdown",
   "metadata": {},
   "source": [
    "# Assignment 2 - Transient Conduction\n",
    "\n",
    "Solve the following problem and explain your results."
   ]
  },
  {
   "cell_type": "markdown",
   "metadata": {},
   "source": [
    "## Problem 1 - Transient Conduction in a Plane Wall\n",
    "\n",
    "The problem we consider is that of a plane wall initially at 100$^\\circ$C with its outer surfaces exposed to an ambient temperature of 0$^\\circ$C.  The wall has a thickness 2*L* and may be considered to have an infinite height and a unit depth. The domain is shown schematically below:\n",
    "\n",
    "![PlaneWall](Figures/2-PlaneWall.png)\n",
    "\n",
    "Initially, the wall only feels the effect of the ambient air very near the surface and thus, the temperature profile inside the solid is quite steep in the vicinity of the surface.  An analytical solution for this problem involves several (at least 4) terms of a Fourier series.  After some time, however, the influence of the ambient air will have reached the center of the wall and the analytical solution can be approximated by the first term of the Fourier series (see, for example, *Fundamentals of Heat and Mass Transfer* by Incropera et al.). To study the order of accuracy of the fully implicit first and second order time discretization schemes, we will consider the cooling process during a period past the initial transient where the one-term Fourier solution is valid.\n",
    "\n",
    "The parameters for the problem are:\n",
    "\n",
    "$$ Bi = \\frac{h L}{k}= 1.0 $$\n",
    "\n",
    "$$ T_i = 100^\\circ C $$\n",
    "\n",
    "$$ T_{\\infty}= 0^\\circ C $$\n",
    "\n",
    "The one-term Fourier solution for this problem is:\n",
    "\n",
    "$$\n",
    "\\frac{T-T_{\\infty}}{T_i-T_{\\infty}}=C_1 \\exp\\left(-\\zeta^2\\frac{\\alpha t}{L^2}\\right)\\cos\\left(\\zeta \\frac{x}{L}\\right)\n",
    "$$\n",
    "\n",
    "where:\n",
    "\n",
    "$$ T = T(x,t) $$\n",
    "\n",
    "$$ \\alpha = \\frac{k}{\\rho c_p} $$\n",
    "\n",
    "$$ C_1 = 1.1191 $$\n",
    "\n",
    "$$ \\zeta = 0.8603 $$\n",
    "\n",
    "The solution to this problem at the two different dimensionless time levels of interest is:\n",
    "\n",
    "$$ \\text{at } \\frac{\\alpha t_1}{L^2}= 0.4535,~~~ T(0,t_1)= 80^\\circ C $$\n",
    "\n",
    "$$ \\text{at } \\frac{\\alpha t_2}{L^2}= 3.2632,~~~ T(0,t_2)= 10^\\circ C $$\n",
    "\n",
    "To solve this problem, initialize the temperature field using the analytical solution at $\\alpha t_1/L^2 = 0.4535$. This avoids the need for a very small timestep during the initial transient when solution is changing rapidly. Then, use your code to calculate the temporal variation of the temperature field over the time period described above.  Solve the problem by employing 2, 4, 8, 16, and 32 time steps using both the first and second order implicit schemes.\n",
    "\n",
    "At the end of each run, calculate the absolute average error, $\\overline{e}$, using the formula:\n",
    "\n",
    "$$\n",
    "\\overline{e}= \\frac{1}{N_{CV}} \\sum_{i=1}^{N_{CV}} |e(i)|\n",
    "$$\n",
    "\n",
    "where\n",
    "\n",
    "$$ e(i) = T_{exact}(i) - T(i) $$ \n",
    "\n",
    "Then, for each scheme, plot your results of $\\overline{e}$ vs. $\\Delta t$ (on a log-log scale) and find the value of $p$ in the expression:\n",
    "\n",
    "$$\n",
    "\\overline{e}= c (\\Delta t)^p\n",
    "$$\n",
    "\n",
    "where $p$ represents the order accuracy of the transient scheme. Also show a separate plot of T(0,$t_2$) verses the number of timesteps used for each scheme employed.\n",
    "\n",
    "Repeat this problem on at least three different grids to demonstrate grid independence of the solution.\n",
    "\n",
    "**Bonus**: Solve the same problem using the Crank-Nicolson scheme and compare the results.\n"
   ]
  },
  {
   "cell_type": "code",
   "execution_count": null,
   "metadata": {},
   "outputs": [],
   "source": []
  }
 ],
 "metadata": {
  "kernelspec": {
   "display_name": "Python 3",
   "language": "python",
   "name": "python3"
  },
  "language_info": {
   "codemirror_mode": {
    "name": "ipython",
    "version": 3
   },
   "file_extension": ".py",
   "mimetype": "text/x-python",
   "name": "python",
   "nbconvert_exporter": "python",
   "pygments_lexer": "ipython3",
   "version": "3.6.5"
  }
 },
 "nbformat": 4,
 "nbformat_minor": 2
}
