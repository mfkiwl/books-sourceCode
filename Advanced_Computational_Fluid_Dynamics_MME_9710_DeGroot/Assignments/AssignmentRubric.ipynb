{
 "cells": [
  {
   "cell_type": "markdown",
   "metadata": {},
   "source": [
    "# General Assignment Rubric\n",
    "\n",
    "All assignments will be graded according to the following grading scheme.\n",
    "\n",
    "## Completeness - 3 marks\n",
    "\n",
    "The completeness of the assignment will be graded out of 3 marks. Marks will be awarded based on the following descriptions:\n",
    "\n",
    "- 3 = all questions are answered and all code is complete\n",
    "- 2 = all questions are attempted but code and/or assignment responses are not complete\n",
    "- 1 = some questions and/or portions of the code are not attempted\n",
    "- 0 = more than half of questions are not attempted and/or significant portions of the code are not attempted\n",
    "\n",
    "## Written Interpretations - 4 marks\n",
    "\n",
    "The written interpretations and accuracy will be graded out of 4 marks. Marks will be awarded based on the following descriptions:\n",
    "\n",
    "- 4 = written interpretations clearly and unambiguously explain the results of the code\n",
    "- 3 = written interpretations explain the results of the code, but may contain some innaccuracies and/or may be lacking some detail\n",
    "- 2 = written interpretations explain the results of the code, but may contain significant innaccuracies and/or may be lacking significant detail\n",
    "- 1 = written interpretations do not explain all of the results of the code and/or contain multiple significant errors\n",
    "- 0 = written interpratations are not clear and/or contain many errors and/or are incomplete\n",
    "\n",
    "## Code Quality/Accuracy - 2 marks\n",
    "\n",
    "The code quality and accuracy will be graded out of 2 marks. Marks will be awarded based on the following descriptions:\n",
    "\n",
    "- 2 = code is clearly written and is completely correct\n",
    "- 1 = code is not clearly written and/or has some errors\n",
    "- 0 = code is poorly written and/or has many errors\n",
    "\n",
    "## Use of Git - 1 mark\n",
    "\n",
    "- 1 = suffieient commits (>3) have been made with clear commit messages\n",
    "- 0 = insufficient commits (<3) have been made and/or commit messages are vague/incorrect\n"
   ]
  }
 ],
 "metadata": {
  "kernelspec": {
   "display_name": "Python 3",
   "language": "python",
   "name": "python3"
  },
  "language_info": {
   "codemirror_mode": {
    "name": "ipython",
    "version": 3
   },
   "file_extension": ".py",
   "mimetype": "text/x-python",
   "name": "python",
   "nbconvert_exporter": "python",
   "pygments_lexer": "ipython3",
   "version": "3.7.7"
  }
 },
 "nbformat": 4,
 "nbformat_minor": 2
}
