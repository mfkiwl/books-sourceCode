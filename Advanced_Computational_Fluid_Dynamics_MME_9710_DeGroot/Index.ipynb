{
 "cells": [
  {
   "cell_type": "markdown",
   "metadata": {},
   "source": [
    "# MME 9710 - Advanced CFD\n",
    "\n",
    "## Lessons\n",
    "\n",
    "[0. Preliminaries](Lessons/0-Preliminaries.ipynb)\n",
    "\n",
    "[1. Introduction to the Finite-Volume Method](Lessons/1-Introduction.ipynb)\n",
    "\n",
    "[2. Steady-State Diffusion](Lessons/2-SteadyDiffusion.ipynb)\n",
    "\n",
    "[3. Transient Diffusion](Lessons/3-TransientDiffusion.ipynb)\n",
    "\n",
    "[4. Convection of a Scalar](Lessons/4-ConvectionOfScalar.ipynb)\n",
    "\n",
    "[5. Solution of Mass and Momentum Equations](Lessons/5-MassAndMomentum.ipynb)\n",
    "\n",
    "[6. Two and Three Dimensional Grids](Lessons/6-TwoAndThreeDimensionalGrids.ipynb)\n",
    "\n",
    "## Assignments\n",
    "\n",
    "[Assignment Rubric](Assignments/AssignmentRubric.ipynb)\n",
    "\n",
    "[1. One-dimensional steady-state diffusion](Assignments/Assignment1.ipynb)\n",
    "\n",
    "[2. One-dimensional transient diffusion](Assignments/Assignment2.ipynb)\n",
    "\n",
    "[3. One-dimensional convection and diffusion](Assignments/Assignment3.ipynb)\n",
    "\n",
    "[4. One-dimensional coupled mass-momentum equations](Assignments/Assignment4.ipynb)"
   ]
  },
  {
   "cell_type": "code",
   "execution_count": null,
   "metadata": {},
   "outputs": [],
   "source": []
  }
 ],
 "metadata": {
  "kernelspec": {
   "display_name": "Python 3",
   "language": "python",
   "name": "python3"
  },
  "language_info": {
   "codemirror_mode": {
    "name": "ipython",
    "version": 3
   },
   "file_extension": ".py",
   "mimetype": "text/x-python",
   "name": "python",
   "nbconvert_exporter": "python",
   "pygments_lexer": "ipython3",
   "version": "3.7.0"
  }
 },
 "nbformat": 4,
 "nbformat_minor": 2
}
