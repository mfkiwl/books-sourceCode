{
 "cells": [
  {
   "cell_type": "markdown",
   "metadata": {},
   "source": [
    "# Assignment 1 - Steady-State Conduction\n",
    "\n",
    "Solve each of the following problems and explain your results. For each problem, determine an appropriate number of control volumes through a grid independence study. Determine the number of iterations required for convergence and comment on the result."
   ]
  },
  {
   "cell_type": "markdown",
   "metadata": {},
   "source": [
    "## Problem 1 - Linear Heat Conduction\n",
    "\n",
    "Solve for the one-dimensional temperature distribution in a square bar of mild steel as given below. The properties of mild steel are:\n",
    "\n",
    " - $k$ = 60 [W/m$\\cdot$K]\n",
    " - $\\rho$ = 7800 [kg/m$^3$]\n",
    " - $c_p$ = 430 [J/kg$\\cdot$K]\n",
    " \n",
    "Assume the convection coefficient is zero on the exposed surfaces, and fixed end temperatures of $T_1$ =100 [$^\\circ$C] and $T_2$ = 0 [$^\\circ$C].\n",
    "\n",
    "![SquareBar](Figures/1-SquareBar.png)"
   ]
  },
  {
   "cell_type": "markdown",
   "metadata": {},
   "source": [
    "## Problem 2 - External Convection\n",
    "\n",
    "Consider the same geometry and properties as in problem 1, except use $h$ = 12 [W/m$^2\\cdot$K] for the exposed surfaces of the bar, and end temperatures of $T_1$ = $T_2$ = 100 [$^\\circ$C].  Assume the surrounding air to be at $T_{\\infty}$ = 25 [$^\\circ$C]. Obtain the solution for this problem and compare your solution to the analytical solution.\n"
   ]
  },
  {
   "cell_type": "markdown",
   "metadata": {},
   "source": [
    "## Problem 3 - Internal Heat Generation\n",
    "\n",
    "A plane wall $L$ = 0.1 [m] thick with a thermal conductivity of $k$ = 26 [W/m$\\cdot$K] is exposed to an environment at an ambient temperature of 50 [$^\\circ$C] on one side and an environment of 40 [$^\\circ$C] on the other side. The convection coefficient at the exposed surfaces is estimated to be $h$ = 280 [W/m$^2\\cdot$K]. If heat is generated uniformly within the wall at a rate 50,000 [W/m$^3$], determine the surface temperatures of the walls, and the location and value of the maximum temperature inside the wall. Compare your result to the analytical result, which can be obtained from a heat transfer textbook."
   ]
  },
  {
   "cell_type": "markdown",
   "metadata": {},
   "source": [
    "## Problem 4 - Radiation \n",
    "\n",
    "Solve the following problem using the square bar geometry given in question 1 with $T_\\infty$ = 0 [K]. Assume that the convection coefficient is $h$ = 0 [W/m$^2\\cdot$K], the emmisivity is $\\epsilon$ = 1.0, the end temperatures are $T_1$ = 400 [K] and $T_2$ = 0 [K]. Try solving this problem using the following linearizations of the radiation source term:\n",
    "\n",
    "- Apply $q_o^{\\prime\\prime} = \\epsilon \\sigma (T^4 - T_\\infty^4)$ into the residual and do not include any contribution from this term into the Jacobian matrix. This is an explicit implementation of the source term.\n",
    "- Apply $q_o^{\\prime\\prime} = \\epsilon \\sigma (T^4 - T_\\infty^4)$ into the residual and include the linearizaton $\\partial q_o^{\\prime\\prime}/\\partial T$ into the Jacobian matrix. This is an implicit implementation of the source term.\n",
    "\n",
    "Solve using each linearization assuming the material is:\n",
    "\n",
    "- Steel, for which: $k$ = 60 [W/m$\\cdot$K], $c_p$ = 430 [J/kg$\\cdot$K]\n",
    "- Wood, for which: $k$ = 0.1 [W/m$\\cdot$K], $c_p$ = 1.3 [J/kg$\\cdot$K]\n",
    "\n",
    "Explain any differences that you observe."
   ]
  },
  {
   "cell_type": "code",
   "execution_count": null,
   "metadata": {},
   "outputs": [],
   "source": []
  }
 ],
 "metadata": {
  "kernelspec": {
   "display_name": "Python 3",
   "language": "python",
   "name": "python3"
  },
  "language_info": {
   "codemirror_mode": {
    "name": "ipython",
    "version": 3
   },
   "file_extension": ".py",
   "mimetype": "text/x-python",
   "name": "python",
   "nbconvert_exporter": "python",
   "pygments_lexer": "ipython3",
   "version": "3.6.5"
  }
 },
 "nbformat": 4,
 "nbformat_minor": 2
}
