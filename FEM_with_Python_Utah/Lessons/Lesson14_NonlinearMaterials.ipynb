{
 "cells": [
  {
   "cell_type": "code",
   "execution_count": 1,
   "metadata": {
    "collapsed": false
   },
   "outputs": [
    {
     "data": {
      "text/html": [
       "<style>\n",
       "@import url('http://fonts.googleapis.com/css?family=Source+Code+Pro');\n",
       "@import url('http://fonts.googleapis.com/css?family=Vollkorn');\n",
       "@import url('http://fonts.googleapis.com/css?family=Arimo');\n",
       "@import url('http://fonts.googleapis.com/css?family=Arvo:400,700,400italic')\n",
       "\n",
       "#notebook li { /* More space between bullet points */\n",
       "    margin-top:0.8em;\n",
       "}\n",
       "\n",
       "/* draw border around running cells */\n",
       "div.cell.border-box-sizing.code_cell.running {\n",
       "    border: 3px solid #111;\n",
       "}\n",
       "\n",
       "div.cell.code_cell {\n",
       "    margin-top: 1em;\n",
       "    margin-left: auto;\n",
       "    margin-right: auto;\n",
       "    width: 800px;\n",
       "    border: 1px solid rgba(200, 200, 200, 0.8);\n",
       "    border-radius: 8px; /* rounded borders */\n",
       "}\n",
       "\n",
       "div.text_cell_render{\n",
       "    font-family: 'Arvo' sans-serif;\n",
       "    /* font-family: 'Arimo',verdana,arial,sans-serif; */\n",
       "    line-height: 130%;\n",
       "    font-size: 115%;\n",
       "    margin-left:0%;\n",
       "    margin-right:auto;\n",
       "}\n",
       "\n",
       ".text_cell_render h1 {\n",
       "    font-family: 'Open sans',verdana,arial,sans-serif;\n",
       "    font-weight: 300;\n",
       "    font-style: bold;\n",
       "    font-size: 30pt;\n",
       "    line-height: 100%;\n",
       "    color:#c76c0c;\n",
       "    margin-top: 0.75em;\n",
       "    margin-bottom: 0.05em;\n",
       "    display: block;\n",
       "}\n",
       "\n",
       ".text_cell_render h2 {\n",
       "    font-family: 'Open sans',verdana,arial,sans-serif;\n",
       "    font-weight: 200;\n",
       "    font-size: 20pt;\n",
       "    line-height: 100%;\n",
       "    color:#c76c0c;\n",
       "    margin-top: 0.75em;\n",
       "    margin-bottom: 0.05em;\n",
       "    display: block;\n",
       "}\n",
       "\n",
       ".text_cell_render h3 {\n",
       "    font-family: 'Open sans',verdana,arial,sans-serif;\n",
       "    font-weight: 200;\n",
       "    font-size: 16pt;\n",
       "    line-height: 100%;\n",
       "    color:#d77c0c;\n",
       "    margin-top: 0.75em;\n",
       "    margin-bottom: 0.05em;\n",
       "    display: block;\n",
       "}\n",
       "\n",
       ".text_cell_render h4 {\n",
       "    font-family: 'Open sans',verdana,arial,sans-serif;\n",
       "    font-weight: 200;\n",
       "    font-size: 14pt;\n",
       "    font-style: italic;\n",
       "    line-height: 100%;\n",
       "    color:#d77c0c;\n",
       "    margin-top: 0.75em;\n",
       "    margin-bottom: 0.05em;\n",
       "    display: block;\n",
       "}\n",
       "\n",
       ".text_cell_render h5 {\n",
       "    font-family: 'Open sans',verdana,arial,sans-serif;\n",
       "    font-weight: 200;\n",
       "    font-size: 12pt;\n",
       "    color: #1d3b84;\n",
       "    margin-top: 0.75em;\n",
       "    margin-bottom: 0.05em;\n",
       "}\n",
       "\n",
       ".rendered_html code{\n",
       "    background-color: transparent;\n",
       "}\n",
       "\n",
       "ul{\n",
       "    margin: 2em;\n",
       "}\n",
       "\n",
       "ul li{\n",
       "    padding-left: 0.5em;\n",
       "    margin-bottom: 0.5em;\n",
       "    margin-top: 0.5em;\n",
       "}\n",
       "\n",
       "ul li li{\n",
       "    padding-left: 0.2em;\n",
       "    margin-bottom: 0.2em;\n",
       "    margin-top: 0.2em;\n",
       "}\n",
       "\n",
       "ol{\n",
       "    margin: 2em;\n",
       "}\n",
       "\n",
       "ol li{\n",
       "    padding-left: 0.5em;\n",
       "    margin-bottom: 0.5em;\n",
       "    margin-top: 0.5em;\n",
       "}\n",
       "\n",
       "ul li{\n",
       "    padding-left: 0.5em;\n",
       "    margin-bottom: 0.5em;\n",
       "    margin-top: 0.2em;\n",
       "}\n",
       "\n",
       "a:link{\n",
       "    font-weight: bold;\n",
       "    color:#447adb;\n",
       "}\n",
       "\n",
       "a:visited{\n",
       "    font-weight: bold;\n",
       "    color: #1d3b84;\n",
       "}\n",
       "\n",
       "a:hover{\n",
       "    font-weight: bold;\n",
       "    color: #1d3b84;\n",
       "}\n",
       "\n",
       "a:focus{\n",
       "    font-weight: bold;\n",
       "    color:#447adb;\n",
       "}\n",
       "\n",
       "a:active{\n",
       "    font-weight: bold;\n",
       "    color:#447adb;\n",
       "}\n",
       "\n",
       ".rendered_html :link {\n",
       "    text-decoration: underline;\n",
       "}\n",
       "\n",
       ".rendered_html :hover {\n",
       "    text-decoration: none;\n",
       "}\n",
       "\n",
       ".rendered_html :visited {\n",
       "    text-decoration: none;\n",
       "}\n",
       "\n",
       ".rendered_html :focus {\n",
       "    text-decoration: none;\n",
       "}\n",
       "\n",
       ".rendered_html :active {\n",
       "    text-decoration: none;\n",
       "}\n",
       "\n",
       ".warning{\n",
       "    color: rgb( 240, 20, 20 )\n",
       "}\n",
       "\n",
       "hr {\n",
       "    color: #f3f3f3;\n",
       "    background-color: #f3f3f3;\n",
       "    height: 1px;\n",
       "}\n",
       "\n",
       "blockquote{\n",
       "    display:block;\n",
       "    background: #fcfcfc;\n",
       "    border-left: 5px solid #c76c0c;\n",
       "    font-family: 'Open sans',verdana,arial,sans-serif;\n",
       "    width:680px;\n",
       "    padding: 10px 10px 10px 10px;\n",
       "}\n",
       "\n",
       "blockquote p {\n",
       "    margin-bottom: 0;\n",
       "    line-height: 125%;\n",
       "    font-size: 100%;\n",
       "}\n",
       "\n",
       "table#mytable,\n",
       "table#mytable td,\n",
       "table#mytable tr\n",
       "{\n",
       "    border: none !important;\n",
       "}\n",
       "\n",
       "table#mytable-1,\n",
       "table#mytable-1 td,\n",
       "table#mytable-1 tr\n",
       "{\n",
       "    border: none !important;\n",
       "    align: center;\n",
       "    cellspacing: 10;\n",
       "}\n",
       "\n",
       ".msg {\n",
       "    width: 90%;\n",
       "    margin-left: auto;\n",
       "    margin-right: auto;\n",
       "    margin-top: 10px;\n",
       "    margin-bottom: 10px;\n",
       "    padding: 14px 14px 14px 14px;\n",
       "    color: #c09853;\n",
       "    text-shadow: 0 1px 0 rgba(255, 255, 255, 0.5);\n",
       "    background-color: #fcf8e3;\n",
       "    border: 1px solid #fbeed5;\n",
       "    -webkit-border-radius: 4px;\n",
       "    -moz-border-radius: 4px;\n",
       "    border-radius: 4px;\n",
       "}\n",
       "\n",
       ".msg-heading {\n",
       "    color: inherit;\n",
       "}\n",
       "\n",
       ".msg .close {\n",
       "    position: relative;\n",
       "    top: -2px;\n",
       "    right: -21px;\n",
       "    line-height: 18px;\n",
       "}\n",
       "\n",
       ".msg-success {\n",
       "    color: #468847;\n",
       "    background-color: #dff0d8;\n",
       "    border-color: #d6e9c6;\n",
       "}\n",
       "\n",
       ".msg-danger,\n",
       ".msg-error {\n",
       "    color: #b94a48;\n",
       "    background-color: #f2dede;\n",
       "    border-color: #eed3d7;\n",
       "}\n",
       "\n",
       ".msg-info {\n",
       "    color: #3a87ad;\n",
       "    background-color: #d9edf7;\n",
       "    border-color: #bce8f1;\n",
       "}\n",
       "\n",
       ".boxed {\n",
       "    color: #b94a48;\n",
       "    background-color: #f2dede;\n",
       "    border-color: #eed3d7;\n",
       "    margin-left: auto;\n",
       "    margin-right: auto;\n",
       "    padding: 14px 14px 14px 14px;\n",
       "}\n",
       "\n",
       ".w-300 { width: 300px; }\n",
       ".w-400 { width: 400px; }\n",
       ".w-500 { width: 500px; }\n",
       "\n",
       "</style>\n"
      ],
      "text/plain": [
       "<IPython.core.display.HTML object>"
      ]
     },
     "execution_count": 1,
     "metadata": {},
     "output_type": "execute_result"
    }
   ],
   "source": [
    "import theme\n",
    "theme.load_style()"
   ]
  },
  {
   "cell_type": "markdown",
   "metadata": {},
   "source": [
    "# Introduction to Nonlinearity"
   ]
  },
  {
   "cell_type": "markdown",
   "metadata": {},
   "source": [
    "<a rel=\"license\" href=\"http://creativecommons.org/licenses/by/4.0/\"><img alt=\"Creative Commons License\" style=\"border-width:0\" src=\"https://i.creativecommons.org/l/by/4.0/80x15.png\" /></a>\n",
    "\n",
    "This lecture by Tim Fuller is licensed under the\n",
    "<a rel=\"license\" href=\"http://creativecommons.org/licenses/by/4.0/\">Creative Commons Attribution 4.0 International License</a>.  All code examples are also licensed under the [MIT license](http://opensource.org/licenses/MIT)."
   ]
  },
  {
   "cell_type": "code",
   "execution_count": 1,
   "metadata": {
    "collapsed": false
   },
   "outputs": [
    {
     "name": "stdout",
     "output_type": "stream",
     "text": [
      "Populating the interactive namespace from numpy and matplotlib\n"
     ]
    }
   ],
   "source": [
    "import numpy as np\n",
    "import sympy as sp\n",
    "%pylab inline\n",
    "sp.init_printing(\"latex\")"
   ]
  },
  {
   "cell_type": "markdown",
   "metadata": {},
   "source": [
    "Nonlinearity arises naturally in physical systems and can be modeled by finite elements in one (or more) of several ways."
   ]
  },
  {
   "cell_type": "markdown",
   "metadata": {},
   "source": [
    "# Types of Nonlinearity"
   ]
  },
  {
   "cell_type": "markdown",
   "metadata": {},
   "source": [
    "They types of nonlinearity encountered in static analysis can be classified as either material nonlinearity or geometric nonlinearity.\n",
    "\n",
    "- **Material Nonlinearity**: Nonlinear relationship between stress and strain\n",
    "- **Geometric Nonlinearity**: Nonlinear relationship between strain and stretch\n",
    "\n",
    "To illustrate, consider the case of nonlinear elasticity, \n",
    "$$\n",
    "\\sigma = f\\left(\\epsilon\\right)\n",
    "$$ \n",
    "\n",
    "where $\\epsilon$ is a strain determined from the stretch $\\lambda=L/L_0$\n",
    "\n",
    "$$\n",
    "\\epsilon = g\\left(\\lambda\\right)\n",
    "$$\n",
    "\n",
    "Here, $f$ and $g$ are nonlinear functions.  Combined, we get\n",
    "\n",
    "$$\n",
    "\\sigma = f\\left(g\\left(\\lambda\\right)\\right)\n",
    "$$\n",
    "\n",
    "Suppose laboratory experiments show"
   ]
  },
  {
   "cell_type": "code",
   "execution_count": 6,
   "metadata": {
    "collapsed": false
   },
   "outputs": [
    {
     "data": {
      "image/png": "[encoded data removed]",
      "text/plain": [
       "<matplotlib.figure.Figure at 0x106ed1fd0>"
      ]
     },
     "metadata": {},
     "output_type": "display_data"
    }
   ],
   "source": [
    "lam = np.linspace(.1, 5)\n",
    "sig = 38 * np.log(lam)\n",
    "plt.xlabel(r\"$\\lambda$\")\n",
    "plt.ylabel(r\"$\\sigma$\")\n",
    "plot(lam, sig);"
   ]
  },
  {
   "cell_type": "markdown",
   "metadata": {},
   "source": [
    "There are many ways we can express the $f$ and $g$ functions:\n",
    "\n",
    "$$\\begin{align}\n",
    "\\sigma &= f\\left(\\epsilon\\right) = 38 \\epsilon \\\\\n",
    "\\epsilon &= g\\left(\\lambda\\right) = \\ln{\\lambda}\n",
    "\\end{align}$$\n",
    "\n",
    "or\n",
    "\n",
    "$$\\begin{align}\n",
    "\\sigma &= f\\left(\\epsilon\\right) = 38 \\ln{\\left(\\epsilon + 1\\right)} \\\\\n",
    "\\epsilon &= g\\left(\\lambda\\right) = \\lambda - 1\n",
    "\\end{align}$$\n",
    " \n",
    "or \n",
    "\n",
    "$$\\begin{align}\n",
    "\\sigma &= f\\left(\\epsilon\\right) = 19 \\ln{\\left(2\\epsilon + 1\\right)} \\\\\n",
    "\\epsilon &= g\\left(\\lambda\\right) = \\frac{1}{2}\\left(\\lambda^2 - 1\\right)\n",
    "\\end{align}$$\n",
    "\n",
    "etc.\n",
    "\n",
    "When combined, all of these choices give\n",
    "\n",
    "$$\n",
    "\\sigma = f\\left(g\\left(\\lambda\\right)\\right) = 38 \\ln{\\lambda}\n",
    "$$"
   ]
  },
  {
   "cell_type": "markdown",
   "metadata": {},
   "source": [
    "Choice 1 has a linear stress-strain relationship but a nonlinear strain-stretch relationship.  This is called **geometric nonlinearity**.\n",
    "\n",
    "Choice 2 has a nonlinear stress-strain relationship but a linear strain-stretch relationship.  This is called **material nonlinearity**.\n",
    "\n",
    "Choice 3 has both material and geometric nonlinearity.\n",
    "\n",
    "No matter the choice of where to put nonlinearity, the end result of stress as a function of stretch should be the same.  Thus, the terms\n",
    "material nonlinearity and geometric nonlinearity are somewhat arbitrary.  They *do* indicate differences in the FEM implementation, but not differences in the final answer."
   ]
  },
  {
   "cell_type": "markdown",
   "metadata": {},
   "source": [
    "# Governing Equations of a 1D Elastic Solid\n",
    "\n",
    "In solid mechanics, static equilibrium requires that\n",
    "\n",
    "$$\n",
    "\\frac{d\\sigma\\left[u\\right]}{dx} + b = 0\n",
    "$$\n",
    "\n",
    "where we have now that $\\sigma\\left[u\\right]$ is a (not necessarily linear) function of the displacement $u$ and and $b$ is a force per unit volume.\n",
    "\n",
    "The weak form is derived in the usual way\n",
    "\n",
    "$$\\begin{align}\n",
    "&\\int_{\\Omega}\\left(\\frac{d\\sigma\\left[u\\right]}{dx} + b\\right)w\\,dx = 0, \\qquad \\forall w \\\\\n",
    "&\\int_{\\Omega}\\left(\\sigma\\left[u\\right]\\frac{dw}{dx} - bw\\right)\\,dx - \\sigma\\left[u\\right] w\\Bigg|_{\\partial \\Omega} = 0\n",
    "\\end{align}\n",
    "$$\n",
    "\n",
    "Because stress is not necessarily linear in $u$, $u$ must be found iteratively."
   ]
  },
  {
   "cell_type": "markdown",
   "metadata": {},
   "source": [
    "## Finite Element Equations\n",
    "\n",
    "The finite element solution procedure for the nonlinear problem follows nearly identical that of the linear problem, namely, the isplacement field is approximated by interpolating polynomials possessing the property of compact support (shape functions):\n",
    "\n",
    "$$\n",
    "u = \\sum_{j=1}^n u_j N_j\n",
    "$$\n",
    "\n",
    "and the weighting functions as\n",
    "\n",
    "$$\n",
    "w = \\sum_{i}^n w_i N_i\n",
    "$$\n",
    "\n",
    "The stress corresponding to a given displacement is found by computing the strain\n",
    "\n",
    "$$\n",
    "\\epsilon = \\frac{du}{dx} = \\sum_{j=1}^{n}u_j \\frac{dN_j}{dx}\n",
    "$$\n",
    "\n",
    "and then passing the strain to the material model $\\sigma = \\sigma\\left[\\epsilon\\right]$\n",
    "\n",
    "Upon substitution of the preceding equations in to the weak form we arrive at\n",
    "\n",
    "$$\n",
    "\\int_{\\Omega}\\left(\\sigma\\left[\\epsilon(u_j)\\right]\\frac{dN_i}{dx} - bN_i\\right)\\,dx - \\sigma\\left[\\epsilon(u_j)\\right] N_i\\Bigg|_{\\partial \\Omega} = 0, \\quad \\forall x_i \\text{ on } \\partial_\\sigma \\Omega\n",
    "$$\n",
    "$$\n",
    "u_i = u_i^*\\left(x_i\\right), \\quad \\forall x_i \\text{ on }\\partial_u\\Omega\n",
    "$$\n",
    "\n",
    "This is a set of $n$ equations for the $n$ unknown nodal displacements $u_i$.  This set of equations is similar to those in the linear case, but because the the consititutive law relating stress and strain is not necessarily linear, it must be solved numerically."
   ]
  },
  {
   "cell_type": "markdown",
   "metadata": {},
   "source": [
    "### Newton-Raphson Iteration\n",
    "\n",
    "One method of solving the finite element equations is by Newton-Raphson iteration whereby we\n",
    "*linearize* the finite element equations about some guess for the $u_j$ and obtain successfully better approximations by iteration.  The linearization of $\\sigma$ about $u_j$ is\n",
    "\n",
    "$$\n",
    "\\sigma\\left[u_k\\right] \\approx \\sigma\\left[u_k^0\\right] + \\frac{d\\sigma}{du_k}du_k =  \\sigma\\left[u_k^0\\right] + \\frac{d\\sigma}{d\\epsilon}\\frac{d\\epsilon}{du_k}du_k\n",
    "$$\n",
    "\n",
    "recalling that \n",
    "\n",
    "$$\n",
    "\\epsilon = \\sum_{k=1}^n u_k \\frac{dN_k}{dx} \\rightarrow \n",
    "\\frac{d\\epsilon}{du_j} = \\sum_{k=1}^n \\frac{du_k}{du_j} \\frac{dN_k}{dx}\n",
    "= \\sum_{k=1}^n \\delta_{kj} \\frac{dN_k}{dx} = \\frac{dN_j}{dx}\n",
    "$$\n",
    "\n",
    "we can write\n",
    "\n",
    "$$\n",
    "\\int_{\\Omega}\\left(\\frac{d\\sigma}{d\\epsilon}\\frac{dN_i}{dx}\\frac{dN_j}{dx}\\,dx\\right) du_j +\n",
    "\\int_{\\Omega}\\sigma\\frac{dN_i}{dx}\\, dx -\n",
    "\\int_{\\Omega}bN_i\\,dx - \n",
    "\\sigma N_i\\Bigg|_{\\partial \\Omega} = 0\n",
    "$$\n",
    "\n",
    "or\n",
    "\n",
    "$$\n",
    "K_{ij}du_{j} = F_{i} - R_{i}\n",
    "$$\n",
    "\n",
    "where\n",
    "$$\n",
    "K_{ij} =\n",
    "\\int_{\\Omega}\\frac{d\\sigma}{d\\epsilon}\\frac{dN_i}{dx}\\frac{dN_j}{dx}\\,dx, \\quad\n",
    "R_{i} = \\int_{\\Omega}\\sigma\\frac{dN_i}{dx}\\, dx, \\quad\n",
    "F_{i} = \\int_{\\Omega}bN_i\\,dx + \\sigma N_i\\Bigg|_{\\partial \\Omega}\n",
    "$$\n",
    "\n",
    "This expression is nearly identical to the linear case with the addition of two terms:\n",
    "\n",
    "- The strain dependent tangent material stiffness $\\frac{d\\sigma}{dx}$\n",
    "- An element \"residual\" $R$"
   ]
  },
  {
   "cell_type": "markdown",
   "metadata": {},
   "source": [
    "## Finite Element Algorithm\n",
    "\n",
    " **STEP 0** Initial guess for $u_j$ ($u_j=0$ is customary)  \n",
    " **STEP 1** Compute global $K_{ij}$, $R_i$, and $F_i$  \n",
    " **STEP 2** Enforce boundary conditions  \n",
    " **STEP 3** Solve $K_{ij}du_j = F_i - R_i$  \n",
    " **STEP 4** Set $u_j \\leftarrow u_j + du_j$  \n",
    " **STEP 5** If $\\lVert du_j\\rVert>$ TOL: GO TO STEP 1  \n",
    " **STEP 6** Write output, postprocess, etc."
   ]
  },
  {
   "cell_type": "markdown",
   "metadata": {},
   "source": [
    "### Element Residual Calculation\n",
    "\n",
    "Let us investigate what additional information we will need to compute the element residual.  The element residual is given by\n",
    "\n",
    "$$\n",
    "r_k^e = \\int_{x_A}^{x_B}\\sigma \\frac{dN_k}{dx} dx\n",
    "$$\n",
    "\n",
    "Using Gauss-Legendre quadrature\n",
    "\n",
    "$$\n",
    "r_k^e = \\int_{-1}^{1}\\sigma \\frac{1}{J} \\frac{dN_k}{d\\xi} Jd\\xi\n",
    "      = \\sum_{l=1}^{n}\\sigma\\frac{dN_k\\left(\\xi_l\\right)}{d\\xi} w_l\n",
    "$$\n",
    "\n",
    "Computing the residual will require computing the stress at a Gauss point and, implicitly, the strain since $\\sigma = f(\\epsilon)$.  Recall tha the strain is given by\n",
    "\n",
    "$$\n",
    "\\epsilon = \\sum_{i=1}^{N} u_i \\frac{dN_i}{dx} = \\sum_{i=1}^{N} \\frac{1}{J} u_i \\frac{dN_i}{d\\xi}\n",
    "$$\n",
    "\n",
    "#### Element Residual Update Algorithm\n",
    "\n",
    "**data**\n",
    "- Initial coordinates: $X$\n",
    "- Current displacement: $u$\n",
    "\n",
    "**external functions**\n",
    "- Material constitutive model: $f$\n",
    " \n",
    "**procedure**\n",
    "- Step 1: Update nodal coordinates\n",
    "  $$x_k=X_k+u_k$$\n",
    "\n",
    "- Step 2: Initialize the element residual\n",
    "  $$r_k^e=0$$\n",
    "\n",
    "- Step 3: Perform Gauss integration  \n",
    "  **for** $n$ from 1 to number of Gauss points **do**\n",
    "\n",
    "  * Step a: Compute shape function derivative wrt to $\\xi$ and the Jacobian\n",
    "    $$\\frac{dN_k}{d\\xi} = \\frac{dN_k\\left(\\xi_n\\right)}{d\\xi}$$\n",
    "    $$J = J\\left(x_k, \\xi_n\\right)$$\n",
    " \n",
    "  * Step b: Compute the strain at $\\xi_n$\n",
    "    $$\\epsilon = \\sum_k \\frac{1}{J} u_k \\frac{dN_k\\left(\\xi_n\\right)}{d\\xi}$$\n",
    "  \n",
    "  * Step c: Compute the stress at $\\xi_n$\n",
    "    $$\\sigma = f\\left(\\epsilon\\right)$$\n",
    "  \n",
    "  * Step d: Update element residual    \n",
    "    **for** $j$ from 1 to number of element nodes **do**\n",
    "      $$r^e_j = r^e_j + \\sigma\\frac{dN_j}{d\\xi} w_n$$\n",
    "    **end for**\n",
    "  \n",
    "  **end for**"
   ]
  },
  {
   "cell_type": "markdown",
   "metadata": {},
   "source": [
    "## Element Stiffness Calculation\n",
    "\n",
    "The element stiffness calculation follows as before, except that instead of a constant element stiffness, the stiffness may change with deformation\n",
    "\n",
    "### Element Stiffness Update Algorithm\n",
    "\n",
    "**data**\n",
    "- Initial coordinates: $X$\n",
    "- Current displacement: $u$\n",
    "\n",
    "**external functions**\n",
    "- Material constitutive model: $f$\n",
    "\n",
    "**procedure**  \n",
    "* Step 1: Update nodal coordinates\n",
    "  $$x_k=X_k+u_k$$\n",
    "\n",
    "* Step 2: Initialize the element stiffness\n",
    "  $$k_{ij}^e=0$$\n",
    "\n",
    "* Step 3: Perform Gauss integration \n",
    "  **for** $n$ from 1 to number of Gauss points **do**\n",
    "\n",
    "  - Step a: Compute shape function derivative wrt to $\\xi$ and the Jacobian\n",
    "    $$\\frac{dN_k}{d\\xi} = \\frac{dN_k\\left(\\xi_n\\right)}{d\\xi}$$\n",
    "    $$J = J\\left(x_k, \\xi_n\\right)$$\n",
    " \n",
    "  - Step b: Compute the strain at $\\xi_n$\n",
    "    $$\\epsilon = \\sum_k \\frac{1}{J} u_k \\frac{dN_k\\left(\\xi_n\\right)}{d\\xi}$$\n",
    "  \n",
    "  - Step c: Compute the element stiffness at $\\xi_n$\n",
    "    $$\\frac{d\\sigma}{d\\epsilon} = f\\left(\\epsilon\\right)$$\n",
    "  \n",
    "  - Step d: Update element stiffness    \n",
    "    **for** $i$ from 1 to number of element nodes **do**   \n",
    "      &nbsp;&nbsp;&nbsp;&nbsp;**for** $j$ from 1 to number of element nodes **do**\n",
    "      $$k_{ij}^e = k_{ij}^e + \n",
    "               \\frac{1}{J}\\frac{d\\sigma}{d\\epsilon}\\frac{dN_i}{d\\xi}\\frac{dN_i}{d\\xi} w_n$$\n",
    "      &nbsp;&nbsp;&nbsp;&nbsp;**end for**  \n",
    "    **end for**\n",
    "  \n",
    "  **end for**"
   ]
  },
  {
   "cell_type": "markdown",
   "metadata": {},
   "source": [
    "## Neo Hookean Material Model\n",
    "\n",
    "An example of a nonlinear material model, widely used in the study of polymer-like materials subjected to moderate strains, is the single parameter Neo-Hookean material model whereby the stress is related to the stretch by"
   ]
  },
  {
   "cell_type": "code",
   "execution_count": 15,
   "metadata": {
    "collapsed": false
   },
   "outputs": [
    {
     "data": {
      "image/png": "[encoded data removed]",
      "text/latex": [
       "$$\\frac{E}{2} \\left(\\lambda - \\frac{1}{\\lambda}\\right)$$"
      ],
      "text/plain": [
       "  ⎛    1⎞\n",
       "E⋅⎜λ - ─⎟\n",
       "  ⎝    λ⎠\n",
       "─────────\n",
       "    2    "
      ]
     },
     "execution_count": 15,
     "metadata": {},
     "output_type": "execute_result"
    }
   ],
   "source": [
    "L, L0, lam, e, E = sp.symbols(\"L L0 lambda epsilon E\")\n",
    "s = E / 2 * (lam - 1 / lam)\n",
    "s"
   ]
  },
  {
   "cell_type": "markdown",
   "metadata": {},
   "source": [
    "where $E$ is Young's modulus.  In terms of engineering strain\n",
    "\n",
    "$$\n",
    "\\epsilon = \\frac{L - L_0}{L_0} = \\lambda - 1 \\rightarrow \\lambda = \\epsilon + 1\n",
    "$$\n",
    "\n",
    "the stress is"
   ]
  },
  {
   "cell_type": "code",
   "execution_count": 18,
   "metadata": {
    "collapsed": false
   },
   "outputs": [
    {
     "data": {
      "image/png": "[encoded data removed]",
      "text/latex": [
       "$$\\frac{E \\epsilon \\left(\\epsilon + 2\\right)}{2 \\epsilon + 2}$$"
      ],
      "text/plain": [
       "E⋅ε⋅(ε + 2)\n",
       "───────────\n",
       " 2⋅(ε + 1) "
      ]
     },
     "execution_count": 18,
     "metadata": {},
     "output_type": "execute_result"
    }
   ],
   "source": [
    "s = s.subs({lam: e + 1})\n",
    "s.simplify()"
   ]
  },
  {
   "cell_type": "markdown",
   "metadata": {},
   "source": [
    "The stiffness, $\\frac{d\\sigma}{d\\epsilon}$ is given by"
   ]
  },
  {
   "cell_type": "code",
   "execution_count": 19,
   "metadata": {
    "collapsed": false
   },
   "outputs": [
    {
     "data": {
      "image/png": "[encoded data removed]",
      "text/latex": [
       "$$\\frac{E}{2} + \\frac{E}{2 \\left(\\epsilon + 1\\right)^{2}}$$"
      ],
      "text/plain": [
       "E       E     \n",
       "─ + ──────────\n",
       "2            2\n",
       "    2⋅(ε + 1) "
      ]
     },
     "execution_count": 19,
     "metadata": {},
     "output_type": "execute_result"
    }
   ],
   "source": [
    "dsde = sp.diff(s, e)\n",
    "dsde.simplify()"
   ]
  },
  {
   "cell_type": "markdown",
   "metadata": {},
   "source": [
    "Let's make sure that the stiffness at $\\epsilon=0$ is $E$"
   ]
  },
  {
   "cell_type": "code",
   "execution_count": 20,
   "metadata": {
    "collapsed": false
   },
   "outputs": [
    {
     "data": {
      "image/png": "[encoded data removed]",
      "text/latex": [
       "$$E$$"
      ],
      "text/plain": [
       "E"
      ]
     },
     "execution_count": 20,
     "metadata": {},
     "output_type": "execute_result"
    }
   ],
   "source": [
    "dsde.subs({e:0})"
   ]
  },
  {
   "cell_type": "markdown",
   "metadata": {},
   "source": [
    "# Finite Element Implementation: Suggestions\n",
    "\n",
    "- Implement a Newton solver using a linear elastic material model, verify it gives the same answer as the direct solver.\n",
    "\n",
    "- Doing so will require calling an external material model whenever the stress and/or material stiffness are needed.  To reduce complications and repeated code, write a function like:\n",
    "\n",
    "        def update_material_state(props, strain, mat_id=1):\n",
    "            if mat_id == 1:\n",
    "                # linear elastic\n",
    "                E = props[0]\n",
    "                stress = E * strain\n",
    "                stiff = E\n",
    "            elif mat_id == ...    \n",
    "        return stress, stiff\n",
    "        \n",
    "  Different material models can then be implemented by giving them a mat_id, i.e., mat_id will now be a model input.  The FEModel constructor should also make sure that the props array is set up correctly for the material.\n",
    "  \n",
    "  When element stiffness and/or stress are needed, just call update_material_state as\n",
    "  \n",
    "         el_stress, el_stiff = update_material_id(props, strain, mat_id)\n",
    "         \n",
    "  Of course, you'll need to make sure that props, strain, and mat_id are correct."
   ]
  }
 ],
 "metadata": {
  "kernelspec": {
   "display_name": "Python 2",
   "language": "python",
   "name": "python2"
  },
  "language_info": {
   "codemirror_mode": {
    "name": "ipython",
    "version": 2
   },
   "file_extension": ".py",
   "mimetype": "text/x-python",
   "name": "python",
   "nbconvert_exporter": "python",
   "pygments_lexer": "ipython2",
   "version": "2.7.10"
  }
 },
 "nbformat": 4,
 "nbformat_minor": 0
}
