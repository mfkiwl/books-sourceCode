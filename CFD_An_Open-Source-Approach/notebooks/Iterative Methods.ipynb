{
 "cells": [
  {
   "cell_type": "markdown",
   "metadata": {},
   "source": [
    "# Iterative Methods for Linear and Nonlinear Systems\n",
    "\n",
    "In this notebook, we will implement Jacobi and Gauss-Seidel iterative methods. Then, we will use them to approximate the solution of the implicit scheme for the Burgers equation.\n",
    "\n",
    "To run each of the following cells, use the keyboard shortcut **SHIFT** + **ENTER**, press the button ``Run`` in the toolbar or find the option ``Cell > Run Cells`` from the menu bar. For more shortcuts, see ``Help > Keyboard Shortcuts``.\n",
    "\n",
    "To get started, import the required Python modules by running the cell below."
   ]
  },
  {
   "cell_type": "code",
   "execution_count": null,
   "metadata": {},
   "outputs": [],
   "source": [
    "# Configuration for visualizing the plots\n",
    "%matplotlib notebook\n",
    "%config InlineBackend.figure_format = 'retina'\n",
    "\n",
    "# Required modules\n",
    "import numpy as np\n",
    "from numpy.linalg import inv\n",
    "import matplotlib.pyplot as plt\n",
    "\n",
    "# Import figure style and custom functions\n",
    "import nbtools as nb"
   ]
  },
  {
   "cell_type": "markdown",
   "metadata": {},
   "source": [
    "## Introduction: Some Useful Numpy Functions\n",
    "\n",
    "Before diving into the implementation of iterative methods, let's explore some useful functions from ``numpy``. In the following cell, create the array \n",
    "\\begin{equation}\n",
    "    A = \\begin{bmatrix}\n",
    "    10 & 2 & 4 \\\\ 6 & 8 & 4  \\\\ 2 & 3 & 9 \n",
    "\\end{bmatrix}\n",
    "\\end{equation}"
   ]
  },
  {
   "cell_type": "code",
   "execution_count": null,
   "metadata": {},
   "outputs": [],
   "source": [
    "A = np.array([[10, 2, 4], [6, 8, 4], [2, 3, 9]])"
   ]
  },
  {
   "cell_type": "markdown",
   "metadata": {},
   "source": [
    "We can extract the upper and lower triangles of A using the function ``np.triu`` and ``np.tril``, respectively. Run the following cell to see the output of ``np.triu(A)``."
   ]
  },
  {
   "cell_type": "code",
   "execution_count": null,
   "metadata": {},
   "outputs": [],
   "source": [
    "np.triu(A)"
   ]
  },
  {
   "cell_type": "markdown",
   "metadata": {},
   "source": [
    "Recall from the theory that we do not need the diagonal values of $A$ in matrix $U$. To achieve this, we can pass an argument to ``np.triu`` to give us the values starting from the ``m``-th diagonal and above. The main diagonal is assumed to be zero. \n",
    "\n",
    "Run the following cell where we have chosen ``m=1``"
   ]
  },
  {
   "cell_type": "code",
   "execution_count": null,
   "metadata": {},
   "outputs": [],
   "source": [
    "np.triu(A, 1)"
   ]
  },
  {
   "cell_type": "markdown",
   "metadata": {},
   "source": [
    "Similarly, we can extract the lower triangle of the matrix using ``np.tril`` with ``m=-1``. In the following cell, extract the lower triangle of $A$ to get matrix $L$, as outlined in the textbook."
   ]
  },
  {
   "cell_type": "code",
   "execution_count": null,
   "metadata": {},
   "outputs": [],
   "source": []
  },
  {
   "cell_type": "markdown",
   "metadata": {},
   "source": [
    "Similarly, we can extract the diagonal of $A$ using ``np.diag(A)``. As you will observe, the output of this function is a vector. To obtain a matrix with the diagonal entries of $A$, one way is to use ``np.diag(np.diag(A))``.\n",
    "\n",
    "Run the following cells and observe the output of each function call."
   ]
  },
  {
   "cell_type": "code",
   "execution_count": null,
   "metadata": {},
   "outputs": [],
   "source": [
    "np.diag(A)"
   ]
  },
  {
   "cell_type": "code",
   "execution_count": null,
   "metadata": {},
   "outputs": [],
   "source": [
    "np.diag(np.diag(A))"
   ]
  },
  {
   "cell_type": "markdown",
   "metadata": {},
   "source": [
    "You can compute the inverse of a matrix using the inverse function of numpy. Run the following cell to obtain the inverse of ``A``"
   ]
  },
  {
   "cell_type": "code",
   "execution_count": null,
   "metadata": {
    "scrolled": true
   },
   "outputs": [],
   "source": [
    "inv(A)"
   ]
  },
  {
   "cell_type": "markdown",
   "metadata": {},
   "source": [
    "## Implementating Jacobi and Gauss-Seidel to solve linear systems\n",
    "Now, we will write the functions for Jacobi and Gauss-Seidel iteration.\n",
    "\n",
    "The functions should have the following arguments\n",
    "- ``A``: matrix $A$,\n",
    "- ``x0``: initial guess vector $\\vec x_0$,\n",
    "- ``b``: $\\vec b$ vector,\n",
    "- ``tol``: tolerance to admit solution,\n",
    "- ``imax``: maximum number of iterations, avoids infinite looping.\n",
    "\n",
    "The output of the functions will be\n",
    "- ``x``: the approximated solution of the system\n",
    "- ``i``: the number of performed iterations\n",
    "- ``error``: the final error \n",
    "\n",
    "To compute the error, we provide the following $L_2$-norm"
   ]
  },
  {
   "cell_type": "code",
   "execution_count": null,
   "metadata": {},
   "outputs": [],
   "source": [
    "def l2_error(xa, xb):\n",
    "    return np.mean(np.abs(xa**2 - xb**2))"
   ]
  },
  {
   "cell_type": "markdown",
   "metadata": {},
   "source": [
    "### Jacobi\n",
    "In the following cell, complete the ``jacobi`` function. You may use the functions explained above."
   ]
  },
  {
   "cell_type": "code",
   "execution_count": null,
   "metadata": {},
   "outputs": [],
   "source": [
    "def jacobi(A, x0, b, tol, imax=1000):\n",
    "    # Extract the upper and lower triangles of A\n",
    "    U = \n",
    "    L = \n",
    "    \n",
    "    # Extract diagonal of A and compute D^(-1),\n",
    "    # taking advantage of its diagonal form\n",
    "    D = \n",
    "    Dinv = np.eye(x0.size)*1/D\n",
    "    \n",
    "    \n",
    "    # Initialize error and counter\n",
    "    error = 1e16\n",
    "    i = 0\n",
    "    while error > tol:\n",
    "        # Apply Jacobi iteration equation\n",
    "        x = \n",
    "        \n",
    "        # Compute L_2 error\n",
    "        error = l2_error(x, x0)\n",
    "        \n",
    "        x0 = x\n",
    "        i += 1\n",
    "        \n",
    "        # Avoid infinite loops\n",
    "        if i >= imax:\n",
    "            break\n",
    "    return x, i, error"
   ]
  },
  {
   "cell_type": "markdown",
   "metadata": {},
   "source": [
    "Consider a system with\n",
    "\\begin{equation}\n",
    "    A = \\begin{bmatrix} 10 & 2 & 4 \\\\ 6 & 8 & 4  \\\\ 2 & 3 & 9  \\end{bmatrix},\\quad\n",
    "\\vec b = \\begin{bmatrix}1\\\\2\\\\3\\end{bmatrix}.\n",
    "\\end{equation}\n",
    "Using an initial guess \n",
    "\\begin{equation}\n",
    "    \\vec x = \\begin{bmatrix}0\\\\0\\\\0\\end{bmatrix},\n",
    "\\end{equation}\n",
    "compute the solution with ``tol=1e-5``. "
   ]
  },
  {
   "cell_type": "code",
   "execution_count": null,
   "metadata": {},
   "outputs": [],
   "source": [
    "A =\n",
    "b = \n",
    "x0 = \n",
    "tol = \n",
    "\n",
    "# Run Jacobi. (To specify the maximum number of iterations, add the argument imax with the desired number)\n",
    "x, i_jac, error_jac = jacobi(A, x0, b, tol)"
   ]
  },
  {
   "cell_type": "markdown",
   "metadata": {},
   "source": [
    "Run the following cell to see how many iterations were necessary to reach the specified tolerance."
   ]
  },
  {
   "cell_type": "code",
   "execution_count": null,
   "metadata": {},
   "outputs": [],
   "source": [
    "f'After {i_jac} iterations, the error using Jacobi is {error_jac}'"
   ]
  },
  {
   "cell_type": "markdown",
   "metadata": {},
   "source": [
    "### Gauss-Seidel\n",
    "In the following cell, complete the function to approximate the solution using Gauss-Seidel. The input and output parameters of the function remain the same."
   ]
  },
  {
   "cell_type": "code",
   "execution_count": null,
   "metadata": {},
   "outputs": [],
   "source": [
    "def gauss_seidel(A, x0, b, tol, imax=1000):\n",
    "    # Extract upper and lower triangles of A\n",
    "    U = \n",
    "    L = \n",
    "    \n",
    "    # Extract diagonal matrix\n",
    "    D = \n",
    "    \n",
    "    # Compute inverse of (L + D)\n",
    "    LDinv = inv(L + D)\n",
    "    \n",
    "    # Initialize error and counter\n",
    "    error = 1e16\n",
    "    i = 0\n",
    "    while error > tol:\n",
    "        # Apply Gauss-Seidel equation\n",
    "        x = \n",
    "        \n",
    "        # Compute L_2 error\n",
    "        error = l2_error(x, x0)\n",
    "        x0 = x\n",
    "        \n",
    "        i += 1\n",
    "        if i >= imax:\n",
    "            break\n",
    "            \n",
    "    return x, i, error"
   ]
  },
  {
   "cell_type": "markdown",
   "metadata": {},
   "source": [
    "Consider the same input parameters as described above and run the following cell to obtain a result using Gauss-Seidel."
   ]
  },
  {
   "cell_type": "code",
   "execution_count": null,
   "metadata": {},
   "outputs": [],
   "source": [
    "# Run Gauss-Seidel. (To specify the maximum number of iterations, add the argument imax with the desired number)\n",
    "x, i_gs, error_gs = gauss_seidel(A, x0, b, tol)"
   ]
  },
  {
   "cell_type": "code",
   "execution_count": null,
   "metadata": {},
   "outputs": [],
   "source": [
    "f'After {i_gs} iterations, the error using Gauss-Seidel is {error_gs}'"
   ]
  },
  {
   "cell_type": "markdown",
   "metadata": {},
   "source": [
    "You may verify your results with the textbook by setting ``imax=30`` for ``jacobi`` and ``imax=5`` for ``gauss_seidel``."
   ]
  },
  {
   "cell_type": "markdown",
   "metadata": {},
   "source": [
    "## Implementing Newton-Raphson to solve nonlinear systems"
   ]
  },
  {
   "cell_type": "markdown",
   "metadata": {},
   "source": [
    "In this section of the notebook, we demonstrate an application of the iterative methods in the context of the Implicit Burgers equation.\n",
    "\n",
    "Following the theory in the textbook, compute the Jacobian matrix $A(u)$ by completing the following function"
   ]
  },
  {
   "cell_type": "code",
   "execution_count": null,
   "metadata": {},
   "outputs": [],
   "source": [
    "def build_jacobian(u, dt, dx, n):\n",
    "    A = np.zeros((n, n))\n",
    "    for i in range(n):\n",
    "        # Diagonal entries\n",
    "        A[i, i] = \n",
    "        # Off-diagonal entries\n",
    "        A[i, i - 1] = \n",
    "    return A"
   ]
  },
  {
   "cell_type": "markdown",
   "metadata": {},
   "source": [
    "In addition, we will require the residual function, given by"
   ]
  },
  {
   "cell_type": "code",
   "execution_count": null,
   "metadata": {},
   "outputs": [],
   "source": [
    "def residual(u, dx):\n",
    "    return -0.5*(u**2 - np.roll(u, 1)**2)/dx"
   ]
  },
  {
   "cell_type": "markdown",
   "metadata": {},
   "source": [
    "To solve the nonlinear system of equations resulting from the Burgers equation, we use the Newton-Raphson method as described in the textbook. In the following cell, complete the ``newton_raphson`` function using a tolerance ``ktol`` and a maximum number of iterations ``kmax``. "
   ]
  },
  {
   "cell_type": "code",
   "execution_count": null,
   "metadata": {},
   "outputs": [],
   "source": [
    "def newton_raphson(u0, dt, dx, n, ktol, kmax=100):\n",
    "    # Initialize variables\n",
    "    error = 1e16\n",
    "    uk = 1.0*u0\n",
    "    k = 0\n",
    "    while (error > ktol) and (k < kmax):\n",
    "        # Obtain residual at k-th iteration\n",
    "        rk = residual(uk, dx)\n",
    "        \n",
    "        # Build RHS vector\n",
    "        b = \n",
    "        \n",
    "        # Obtain Jacobian matrix at k-th iteration\n",
    "        Ak = build_jacobian(uk, dt, dx, n)\n",
    "        \n",
    "        # Solve linearized system using inv\n",
    "        du = \n",
    "        \n",
    "        # Obtain solution at k+1-th iteration\n",
    "        ukk = \n",
    "        \n",
    "        # Compute error at this iteration\n",
    "        error = np.max(np.abs(du))\n",
    "        \n",
    "        uk = ukk\n",
    "        k += 1\n",
    "        \n",
    "    uf = ukk\n",
    "    return uf"
   ]
  },
  {
   "cell_type": "markdown",
   "metadata": {},
   "source": [
    "We now run the implicit Burgers problem considering an initial condition $$u(x,0) = e^{-40(x-1/2)^2}$$ on a domain $x\\in[0,1]$ and the following parameters\n",
    "- Number of cells ``n = 100``,\n",
    "- Time-step size ``dt = 0.0025``,\n",
    "- Final time ``tf = 0.5``,\n",
    "- Newton error tolerance ``ktol = 1e-6``.\n",
    "\n",
    "We will time the solver by using the magic function ``%%time``."
   ]
  },
  {
   "cell_type": "code",
   "execution_count": null,
   "metadata": {
    "scrolled": true
   },
   "outputs": [],
   "source": [
    "%%time\n",
    "L =\n",
    "n = \n",
    "dt = \n",
    "tf = \n",
    "ktol = \n",
    "\n",
    "x = np.linspace(0, L, n)\n",
    "dx = L/n\n",
    "niter = int(tf/dt)\n",
    "\n",
    "# Initialize solution\n",
    "u = np.exp(-40*(x-1/2)**2)\n",
    "\n",
    "# Advance nonlinear problem\n",
    "for i in range(niter):\n",
    "    u = newton_raphson(u, dt, dx, n, ktol)"
   ]
  },
  {
   "cell_type": "code",
   "execution_count": null,
   "metadata": {},
   "outputs": [],
   "source": [
    "# Plot solution\n",
    "plt.plot(x, u)\n",
    "plt.xlabel('$x$')\n",
    "plt.ylabel('$u$')"
   ]
  },
  {
   "cell_type": "markdown",
   "metadata": {},
   "source": [
    "Observe the resulting wall time and increase the number of cells to ``n = 200`` and then to ``n = 400``. How significant is the time increase? "
   ]
  }
 ],
 "metadata": {
  "kernelspec": {
   "display_name": "Python 3",
   "language": "python",
   "name": "python3"
  },
  "language_info": {
   "codemirror_mode": {
    "name": "ipython",
    "version": 3
   },
   "file_extension": ".py",
   "mimetype": "text/x-python",
   "name": "python",
   "nbconvert_exporter": "python",
   "pygments_lexer": "ipython3",
   "version": "3.7.6"
  }
 },
 "nbformat": 4,
 "nbformat_minor": 4
}
