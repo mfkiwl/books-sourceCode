{
 "cells": [
  {
   "cell_type": "markdown",
   "metadata": {},
   "source": [
    "# Time-Stepping Methods\n",
    "\n",
    "In this notebook, we will explore different methods to solve ordinary differential equations. Specifically, we will implement some explicit and implicit methods to advance our spatial discretizations schemes in time.\n",
    "\n",
    "To run each of the following cells, use the keyboard shortcut **SHIFT** + **ENTER**, press the button ``Run`` in the toolbar or find the option ``Cell > Run Cells`` from the menu bar. For more shortcuts, see ``Help > Keyboard Shortcuts``.\n",
    "\n",
    "To get started, import the required Python modules by running the cell below."
   ]
  },
  {
   "cell_type": "code",
   "execution_count": null,
   "metadata": {},
   "outputs": [],
   "source": [
    "# Configuration for visualizing the plots\n",
    "%matplotlib notebook\n",
    "%config InlineBackend.figure_format = 'retina'\n",
    "\n",
    "# Required modules\n",
    "import numpy as np\n",
    "import matplotlib.pyplot as plt\n",
    "\n",
    "# Import figure style and custom functions\n",
    "import nbtools as nb"
   ]
  },
  {
   "cell_type": "markdown",
   "metadata": {},
   "source": [
    "In order to advance the solution of our partial differential equations in time, we generally write it in the form\n",
    "$$ \\frac{du}{dt} = R(u),$$\n",
    "where $R$ is generally known as the _residual_. For example, in the case of the linear advection equation, it can be written\n",
    "$$ R = -\\alpha\\frac{\\partial u}{\\partial x}.$$\n",
    "Consider the second-order central advection scheme\n",
    "$$ R = -\\alpha\\frac{u_{i+1} - u_{i-1}}{2\\Delta x}.$$\n",
    "\n",
    "Run the cell containing the function ``residual``, which corresponds to the above equation of $R$ with periodic boundary conditions applied."
   ]
  },
  {
   "cell_type": "code",
   "execution_count": null,
   "metadata": {},
   "outputs": [],
   "source": [
    "def residual(u, a, dx):\n",
    "    # Second-order accurate central method\n",
    "    return -0.5*a/dx*(np.roll(u, -1) - np.roll(u, 1))"
   ]
  },
  {
   "cell_type": "markdown",
   "metadata": {},
   "source": [
    "Now, let's define our computational grid. For this, consider a domain of length ``L=1.0`` with ``n=100`` nodes."
   ]
  },
  {
   "cell_type": "code",
   "execution_count": null,
   "metadata": {},
   "outputs": [],
   "source": [
    "L = \n",
    "n = \n",
    "\n",
    "dx = L/n\n",
    "x = np.linspace(0, L-dx, n)"
   ]
  },
  {
   "cell_type": "markdown",
   "metadata": {},
   "source": [
    "We also pre-define the final time ``tf=1.0``, the advection speed ``a=1.0`` and an initial condition \n",
    "\n",
    "$$u(x,0) = e^{-40\\left(x-\\frac{1}{2}\\right)^2}$$"
   ]
  },
  {
   "cell_type": "code",
   "execution_count": null,
   "metadata": {},
   "outputs": [],
   "source": [
    "tf = \n",
    "a = \n",
    "\n",
    "# Initialize solution\n",
    "u0 = np.exp(-40*(x-1/2)**2)"
   ]
  },
  {
   "cell_type": "markdown",
   "metadata": {},
   "source": [
    "## The Midpoint Method\n",
    "The second-order midpoint method can be written as two stages, i.e\n",
    "1.  $~\\tilde u = u^t + \\frac{\\Delta t}{2} R(u)$\n",
    "\n",
    "2.  $~u^{t+1} = u^t + \\Delta t R(\\tilde u)$\n",
    "\n",
    "The function ``midpoint_method`` implements this scheme."
   ]
  },
  {
   "cell_type": "code",
   "execution_count": null,
   "metadata": {},
   "outputs": [],
   "source": [
    "def midpoint_method(ut, a, dx, dt, tf):\n",
    "    t = 0\n",
    "    while t < tf:\n",
    "        # Compute residual R(u)\n",
    "        r = residual(ut, a, dx)\n",
    "        \n",
    "        # Compute solution ũ at dt/2\n",
    "        um = ut + 0.5*dt*r\n",
    "        \n",
    "        # Compute residual corresponding to ũ\n",
    "        rm = residual(um, a, dx)\n",
    "        \n",
    "        # Computer solution at t+Δt\n",
    "        uf = ut + 1.0*dt*rm\n",
    "        \n",
    "        ut = uf\n",
    "        t += dt \n",
    "    return ut"
   ]
  },
  {
   "cell_type": "markdown",
   "metadata": {},
   "source": [
    "Run the advection case using the midpoint method and a time-step size of ``dt=0.005``"
   ]
  },
  {
   "cell_type": "code",
   "execution_count": null,
   "metadata": {
    "scrolled": false
   },
   "outputs": [],
   "source": [
    "dt = 0.005\n",
    "uf = midpoint_method(u0, a, dx, dt, tf)\n",
    "plt.figure()\n",
    "plt.plot(x, uf, label=\"Midpoint Method\")\n",
    "plt.legend()"
   ]
  },
  {
   "cell_type": "markdown",
   "metadata": {},
   "source": [
    "Now, run the simulation until ``tf=6.0``. What behaviour do you observe?"
   ]
  },
  {
   "cell_type": "markdown",
   "metadata": {},
   "source": [
    "## The RK4 method"
   ]
  },
  {
   "cell_type": "markdown",
   "metadata": {},
   "source": [
    "In the next cell, rewrite the residual function using a fourth-order accurate spatial stencil"
   ]
  },
  {
   "cell_type": "code",
   "execution_count": null,
   "metadata": {},
   "outputs": [],
   "source": [
    "def residual(u, a, dx):\n",
    "    # Implement fourth-order stencil\n",
    "    # ..."
   ]
  },
  {
   "cell_type": "markdown",
   "metadata": {},
   "source": [
    "Similar to the Midpoint method, write a function that advances the solution in time using the fourth-order four-stage Runge-Kutta method. Refer to the textbook for the corresponding Butcher tableau."
   ]
  },
  {
   "cell_type": "code",
   "execution_count": null,
   "metadata": {},
   "outputs": [],
   "source": [
    "def rk4(ut, a, dx, dt, tf):\n",
    "    t = 0\n",
    "    while t < tf:\n",
    "        # Implement RK4 method\n",
    "        # ...\n",
    "        ut = uf\n",
    "        t += dt \n",
    "    return ut"
   ]
  },
  {
   "cell_type": "markdown",
   "metadata": {},
   "source": [
    "Using a time-step size ``t=0.01``, run the simulation until ``tf=1.0``."
   ]
  },
  {
   "cell_type": "code",
   "execution_count": null,
   "metadata": {},
   "outputs": [],
   "source": [
    "dt = \n",
    "uf = rk4(u0, a, dx, dt, tf)\n",
    "plt.figure()\n",
    "plt.plot(x, uf, label=\"RK4\")\n",
    "plt.legend()"
   ]
  },
  {
   "cell_type": "markdown",
   "metadata": {},
   "source": [
    "Run the fourth-order spatial scheme using both time-stepping methods and``dt=0.01, 0.005`` until times ``tf=1.0`` and ``tf=2.0``. Comment on the results."
   ]
  }
 ],
 "metadata": {
  "kernelspec": {
   "display_name": "Python 3",
   "language": "python",
   "name": "python3"
  },
  "language_info": {
   "codemirror_mode": {
    "name": "ipython",
    "version": 3
   },
   "file_extension": ".py",
   "mimetype": "text/x-python",
   "name": "python",
   "nbconvert_exporter": "python",
   "pygments_lexer": "ipython3",
   "version": "3.7.6"
  }
 },
 "nbformat": 4,
 "nbformat_minor": 2
}
