{
 "cells": [
  {
   "cell_type": "markdown",
   "metadata": {},
   "source": [
    "## Taylor Series\n",
    "\n",
    "In this notebook, we will explore approximating functions using Taylor series.\n",
    "\n",
    "To run each of the following cells, use the keyboard shortcut **SHIFT** + **ENTER**, press the button ``Run`` in the toolbar or find the option ``Cell > Run Cells`` from the menu bar. For more shortcuts, see ``Help > Keyboard Shortcuts``.\n",
    "\n",
    "To get started, import the required Python modules by running the cell below."
   ]
  },
  {
   "cell_type": "code",
   "execution_count": null,
   "metadata": {},
   "outputs": [],
   "source": [
    "# Configuration for visualizing the plots\n",
    "%matplotlib notebook\n",
    "%config InlineBackend.figure_format = 'retina'\n",
    "\n",
    "# Required modules, functions and variables\n",
    "from math import factorial\n",
    "import numpy as np\n",
    "import sympy as sp\n",
    "from sympy.abc import x\n",
    "import matplotlib.pyplot as plt\n",
    "\n",
    "import nbtools as nb\n",
    "\n",
    "# Allow printing sympy's math using latex\n",
    "sp.init_printing()"
   ]
  },
  {
   "cell_type": "markdown",
   "metadata": {},
   "source": [
    "Define the function ``f(x)`` to be approximated. Some common functions you may find useful are\n",
    "   - ``sp.sin(x)``,\n",
    "   - ``sp.cos(x)``,\n",
    "   - ``sp.exp(x)``,\n",
    "   \n",
    "as an example, we use the sine function. "
   ]
  },
  {
   "cell_type": "code",
   "execution_count": null,
   "metadata": {},
   "outputs": [],
   "source": [
    "f = sp.sin(x)"
   ]
  },
  {
   "cell_type": "markdown",
   "metadata": {},
   "source": [
    "Define an expansion point, which we call ``a``. "
   ]
  },
  {
   "cell_type": "code",
   "execution_count": null,
   "metadata": {},
   "outputs": [],
   "source": [
    "a = 0"
   ]
  },
  {
   "cell_type": "markdown",
   "metadata": {},
   "source": [
    "Define the power of the highest-degree expansion ``n``. This is equal to the number of terms + 1. Following the example shown in the Taylor Series Chapter, we define ``n=9``."
   ]
  },
  {
   "cell_type": "code",
   "execution_count": null,
   "metadata": {},
   "outputs": [],
   "source": [
    "n = 9"
   ]
  },
  {
   "cell_type": "markdown",
   "metadata": {},
   "source": [
    "Run the cell containing the function ``taylor_series``. Read the comments describing each of the steps."
   ]
  },
  {
   "cell_type": "code",
   "execution_count": null,
   "metadata": {},
   "outputs": [],
   "source": [
    "def taylor_series(f, a, n):\n",
    "    # Initialize plot with exact solution\n",
    "    fig, ax = plt.subplots()\n",
    "    colors = nb.get_colors(n+1, end=0.9)\n",
    "    \n",
    "    # Define x-axis value range for plotting\n",
    "    X = np.linspace(-np.pi, np.pi, 100)\n",
    "    Y = [f.subs(x, xp) for xp in X]\n",
    "    ax.plot(X, Y, ':k', label='$sin(x)$')\n",
    "    \n",
    "    # Initialize fn\n",
    "    fn = 0\n",
    "    for i in range(n+1):\n",
    "        # Get degree i-th derivative and evaluate at point a\n",
    "        dfn = sp.diff(f, x, i)\n",
    "        dfn_a = dfn.subs(x, a)\n",
    "        \n",
    "        # Add term to fn\n",
    "        fn += dfn_a*(x-a)**i/factorial(i)\n",
    "        \n",
    "        if dfn_a != 0 or i == 0:\n",
    "            # Plot function only if dfn_a is not zero\n",
    "            Y = [fn.subs(x, xp) for xp in X]\n",
    "            ax.plot(X, Y, label=r'$f_{}(x)$'.format(i), color=colors[i], lw=0.9)\n",
    "    \n",
    "    # Use multiples of pi/2 to label ticks\n",
    "    plt.xticks([-np.pi, -np.pi/2, 0, np.pi/2, np.pi], \n",
    "               [r'$-\\pi$', r'$-\\frac{\\pi}{2}$', '$0$',\n",
    "                r'$\\frac{\\pi}{2}$', r'$\\pi$'])\n",
    "    \n",
    "    ax.set_ylim(-1.2, 1.2)\n",
    "    ax.legend()\n",
    "    return fn"
   ]
  },
  {
   "cell_type": "markdown",
   "metadata": {},
   "source": [
    "Using the values we have previously defined, we call the ``taylor_series`` function, which will plot the resulting polynomials as the number of terms is increased."
   ]
  },
  {
   "cell_type": "code",
   "execution_count": null,
   "metadata": {},
   "outputs": [],
   "source": [
    "fn = taylor_series(f, a, n)"
   ]
  },
  {
   "cell_type": "markdown",
   "metadata": {},
   "source": [
    "Print the approximation of $sin(x)$."
   ]
  },
  {
   "cell_type": "code",
   "execution_count": null,
   "metadata": {},
   "outputs": [],
   "source": [
    "fn"
   ]
  },
  {
   "cell_type": "markdown",
   "metadata": {},
   "source": [
    "Why do only odd-powered terms appear in ``fn`` in our original example? Repeat the procedure above\n",
    "using a different expansion point, such as $a=\\dfrac{\\pi}{4}$."
   ]
  },
  {
   "cell_type": "code",
   "execution_count": null,
   "metadata": {},
   "outputs": [],
   "source": []
  }
 ],
 "metadata": {
  "kernelspec": {
   "display_name": "Python 3",
   "language": "python",
   "name": "python3"
  },
  "language_info": {
   "codemirror_mode": {
    "name": "ipython",
    "version": 3
   },
   "file_extension": ".py",
   "mimetype": "text/x-python",
   "name": "python",
   "nbconvert_exporter": "python",
   "pygments_lexer": "ipython3",
   "version": "3.7.6"
  }
 },
 "nbformat": 4,
 "nbformat_minor": 2
}
