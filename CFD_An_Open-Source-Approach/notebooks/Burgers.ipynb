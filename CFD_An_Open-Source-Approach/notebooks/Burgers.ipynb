{
 "cells": [
  {
   "cell_type": "markdown",
   "metadata": {},
   "source": [
    "# Inviscid Burgers\n",
    "\n",
    "In this notebook, we will explore the first-order upwind scheme for the burgers equation.\n",
    "\n",
    "To run each of the following cells, use the keyboard shortcut **SHIFT** + **ENTER**, press the button ``Run`` in the toolbar or find the option ``Cell > Run Cells`` from the menu bar. For more shortcuts, see ``Help > Keyboard Shortcuts``.\n",
    "\n",
    "To get started, import the required Python modules by running the cell below."
   ]
  },
  {
   "cell_type": "code",
   "execution_count": null,
   "metadata": {},
   "outputs": [],
   "source": [
    "# Configuration for visualizing the plots\n",
    "%matplotlib notebook\n",
    "%config InlineBackend.figure_format = 'retina'\n",
    "\n",
    "# Required modules\n",
    "import numpy as np\n",
    "import matplotlib.pyplot as plt\n",
    "\n",
    "# Import figure style and custom functions\n",
    "import nbtools as nb"
   ]
  },
  {
   "cell_type": "markdown",
   "metadata": {},
   "source": [
    "Run the cell containing the function ``burgers``. Read the comments to understand each of the steps."
   ]
  },
  {
   "cell_type": "code",
   "execution_count": null,
   "metadata": {},
   "outputs": [],
   "source": [
    "def burgers(L, n, dt, tf):\n",
    "    # Build grid\n",
    "    dx = L/n\n",
    "    x = np.linspace(0, L - dx, n)\n",
    "    \n",
    "    # Initialize solution\n",
    "    u = np.exp(-40*(x-1/2)**2)\n",
    "    ut = np.zeros(u.shape)\n",
    "\n",
    "    # Advance solution in time\n",
    "    t = 0\n",
    "    while(t < tf):\n",
    "        for i in range(n):\n",
    "            # Enforce periodic boundary condition at x=0\n",
    "            if i == 0:\n",
    "                ut[i] = u[i] - 0.5*dt/dx * (u[i]**2-u[n-1]**2)\n",
    "            else:\n",
    "                ut[i] = u[i] - 0.5*dt/dx * (u[i]**2-u[i-1]**2)\n",
    "\n",
    "        u[:] = ut[:]\n",
    "        t += dt\n",
    "        \n",
    "    plt.plot(x, u, 'o-', markersize=2, label=f'$n={n}$')\n",
    "    plt.legend()"
   ]
  },
  {
   "cell_type": "markdown",
   "metadata": {},
   "source": [
    "Create a matplotlib figure and add labels to each axis. Plots will appear in this figure.\n",
    "\n",
    "**Note**: You can always run this cell again to clear the figure."
   ]
  },
  {
   "cell_type": "code",
   "execution_count": null,
   "metadata": {},
   "outputs": [],
   "source": [
    "plt.figure(0)\n",
    "plt.xlabel('$x$')\n",
    "plt.ylabel('$u(x,t)$')"
   ]
  },
  {
   "cell_type": "markdown",
   "metadata": {},
   "source": [
    "Now run the function ``burgers`` providing\n",
    "   - ``L``: The domain length equal to ``1``,\n",
    "   - ``n``: The number of grid points equal to ``10``,\n",
    "   - ``dt``: The time step size equal to ``0.005``,\n",
    "   - ``tf``: The final time equal to ``0.5``."
   ]
  },
  {
   "cell_type": "code",
   "execution_count": null,
   "metadata": {},
   "outputs": [],
   "source": [
    "# Make sure plot uses figure above\n",
    "plt.figure(0)\n",
    "\n",
    "# Assign the provided values to the following variables\n",
    "L = \n",
    "n = \n",
    "dt = \n",
    "tf = \n",
    "\n",
    "burgers(L, n, dt, tf)"
   ]
  },
  {
   "cell_type": "markdown",
   "metadata": {},
   "source": [
    "Now, call the function ``burgers`` again with 20, 40, 80 and 160 grid points. Keep the rest of the variables the same. What behaviour do you observe? The result must be equal to the figure shown in the Burgers section of the Finite Difference chapter."
   ]
  },
  {
   "cell_type": "code",
   "execution_count": null,
   "metadata": {},
   "outputs": [],
   "source": [
    "# Make sure plot uses figure above\n",
    "plt.figure(0)\n",
    "\n",
    "# Call burgers in this cell as many times as required. \n",
    "# You may use a for loop. \n",
    "# Note that the figure will be updated above."
   ]
  }
 ],
 "metadata": {
  "kernelspec": {
   "display_name": "Python 3",
   "language": "python",
   "name": "python3"
  },
  "language_info": {
   "codemirror_mode": {
    "name": "ipython",
    "version": 3
   },
   "file_extension": ".py",
   "mimetype": "text/x-python",
   "name": "python",
   "nbconvert_exporter": "python",
   "pygments_lexer": "ipython3",
   "version": "3.7.6"
  }
 },
 "nbformat": 4,
 "nbformat_minor": 2
}
